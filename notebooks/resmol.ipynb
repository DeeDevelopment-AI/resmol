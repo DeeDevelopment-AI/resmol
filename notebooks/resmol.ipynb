{
 "cells": [
  {
   "cell_type": "code",
   "execution_count": 1,
   "metadata": {
    "collapsed": true,
    "ExecuteTime": {
     "end_time": "2023-06-11T19:51:04.589763700Z",
     "start_time": "2023-06-11T19:48:27.279537900Z"
    }
   },
   "outputs": [
    {
     "name": "stderr",
     "output_type": "stream",
     "text": [
      "/home/sandra/deedevelopment.ai/resmol/venv/lib/python3.10/site-packages/shap/utils/_clustering.py:35: NumbaDeprecationWarning: \u001B[1mThe 'nopython' keyword argument was not supplied to the 'numba.jit' decorator. The implicit default value for this argument is currently False, but it will be changed to True in Numba 0.59.0. See https://numba.readthedocs.io/en/stable/reference/deprecation.html#deprecation-of-object-mode-fall-back-behaviour-when-using-jit for details.\u001B[0m\n",
      "  def _pt_shuffle_rec(i, indexes, index_mask, partition_tree, M, pos):\n",
      "/home/sandra/deedevelopment.ai/resmol/venv/lib/python3.10/site-packages/shap/utils/_clustering.py:54: NumbaDeprecationWarning: \u001B[1mThe 'nopython' keyword argument was not supplied to the 'numba.jit' decorator. The implicit default value for this argument is currently False, but it will be changed to True in Numba 0.59.0. See https://numba.readthedocs.io/en/stable/reference/deprecation.html#deprecation-of-object-mode-fall-back-behaviour-when-using-jit for details.\u001B[0m\n",
      "  def delta_minimization_order(all_masks, max_swap_size=100, num_passes=2):\n",
      "/home/sandra/deedevelopment.ai/resmol/venv/lib/python3.10/site-packages/shap/utils/_clustering.py:63: NumbaDeprecationWarning: \u001B[1mThe 'nopython' keyword argument was not supplied to the 'numba.jit' decorator. The implicit default value for this argument is currently False, but it will be changed to True in Numba 0.59.0. See https://numba.readthedocs.io/en/stable/reference/deprecation.html#deprecation-of-object-mode-fall-back-behaviour-when-using-jit for details.\u001B[0m\n",
      "  def _reverse_window(order, start, length):\n",
      "/home/sandra/deedevelopment.ai/resmol/venv/lib/python3.10/site-packages/shap/utils/_clustering.py:69: NumbaDeprecationWarning: \u001B[1mThe 'nopython' keyword argument was not supplied to the 'numba.jit' decorator. The implicit default value for this argument is currently False, but it will be changed to True in Numba 0.59.0. See https://numba.readthedocs.io/en/stable/reference/deprecation.html#deprecation-of-object-mode-fall-back-behaviour-when-using-jit for details.\u001B[0m\n",
      "  def _reverse_window_score_gain(masks, order, start, length):\n",
      "/home/sandra/deedevelopment.ai/resmol/venv/lib/python3.10/site-packages/shap/utils/_clustering.py:77: NumbaDeprecationWarning: \u001B[1mThe 'nopython' keyword argument was not supplied to the 'numba.jit' decorator. The implicit default value for this argument is currently False, but it will be changed to True in Numba 0.59.0. See https://numba.readthedocs.io/en/stable/reference/deprecation.html#deprecation-of-object-mode-fall-back-behaviour-when-using-jit for details.\u001B[0m\n",
      "  def _mask_delta_score(m1, m2):\n",
      "/home/sandra/deedevelopment.ai/resmol/venv/lib/python3.10/site-packages/shap/links.py:5: NumbaDeprecationWarning: \u001B[1mThe 'nopython' keyword argument was not supplied to the 'numba.jit' decorator. The implicit default value for this argument is currently False, but it will be changed to True in Numba 0.59.0. See https://numba.readthedocs.io/en/stable/reference/deprecation.html#deprecation-of-object-mode-fall-back-behaviour-when-using-jit for details.\u001B[0m\n",
      "  def identity(x):\n",
      "/home/sandra/deedevelopment.ai/resmol/venv/lib/python3.10/site-packages/shap/links.py:10: NumbaDeprecationWarning: \u001B[1mThe 'nopython' keyword argument was not supplied to the 'numba.jit' decorator. The implicit default value for this argument is currently False, but it will be changed to True in Numba 0.59.0. See https://numba.readthedocs.io/en/stable/reference/deprecation.html#deprecation-of-object-mode-fall-back-behaviour-when-using-jit for details.\u001B[0m\n",
      "  def _identity_inverse(x):\n",
      "/home/sandra/deedevelopment.ai/resmol/venv/lib/python3.10/site-packages/shap/links.py:15: NumbaDeprecationWarning: \u001B[1mThe 'nopython' keyword argument was not supplied to the 'numba.jit' decorator. The implicit default value for this argument is currently False, but it will be changed to True in Numba 0.59.0. See https://numba.readthedocs.io/en/stable/reference/deprecation.html#deprecation-of-object-mode-fall-back-behaviour-when-using-jit for details.\u001B[0m\n",
      "  def logit(x):\n",
      "/home/sandra/deedevelopment.ai/resmol/venv/lib/python3.10/site-packages/shap/links.py:20: NumbaDeprecationWarning: \u001B[1mThe 'nopython' keyword argument was not supplied to the 'numba.jit' decorator. The implicit default value for this argument is currently False, but it will be changed to True in Numba 0.59.0. See https://numba.readthedocs.io/en/stable/reference/deprecation.html#deprecation-of-object-mode-fall-back-behaviour-when-using-jit for details.\u001B[0m\n",
      "  def _logit_inverse(x):\n",
      "/home/sandra/deedevelopment.ai/resmol/venv/lib/python3.10/site-packages/shap/utils/_masked_model.py:363: NumbaDeprecationWarning: \u001B[1mThe 'nopython' keyword argument was not supplied to the 'numba.jit' decorator. The implicit default value for this argument is currently False, but it will be changed to True in Numba 0.59.0. See https://numba.readthedocs.io/en/stable/reference/deprecation.html#deprecation-of-object-mode-fall-back-behaviour-when-using-jit for details.\u001B[0m\n",
      "  def _build_fixed_single_output(averaged_outs, last_outs, outputs, batch_positions, varying_rows, num_varying_rows, link, linearizing_weights):\n",
      "/home/sandra/deedevelopment.ai/resmol/venv/lib/python3.10/site-packages/shap/utils/_masked_model.py:385: NumbaDeprecationWarning: \u001B[1mThe 'nopython' keyword argument was not supplied to the 'numba.jit' decorator. The implicit default value for this argument is currently False, but it will be changed to True in Numba 0.59.0. See https://numba.readthedocs.io/en/stable/reference/deprecation.html#deprecation-of-object-mode-fall-back-behaviour-when-using-jit for details.\u001B[0m\n",
      "  def _build_fixed_multi_output(averaged_outs, last_outs, outputs, batch_positions, varying_rows, num_varying_rows, link, linearizing_weights):\n",
      "/home/sandra/deedevelopment.ai/resmol/venv/lib/python3.10/site-packages/shap/utils/_masked_model.py:428: NumbaDeprecationWarning: \u001B[1mThe 'nopython' keyword argument was not supplied to the 'numba.jit' decorator. The implicit default value for this argument is currently False, but it will be changed to True in Numba 0.59.0. See https://numba.readthedocs.io/en/stable/reference/deprecation.html#deprecation-of-object-mode-fall-back-behaviour-when-using-jit for details.\u001B[0m\n",
      "  def _init_masks(cluster_matrix, M, indices_row_pos, indptr):\n",
      "/home/sandra/deedevelopment.ai/resmol/venv/lib/python3.10/site-packages/shap/utils/_masked_model.py:439: NumbaDeprecationWarning: \u001B[1mThe 'nopython' keyword argument was not supplied to the 'numba.jit' decorator. The implicit default value for this argument is currently False, but it will be changed to True in Numba 0.59.0. See https://numba.readthedocs.io/en/stable/reference/deprecation.html#deprecation-of-object-mode-fall-back-behaviour-when-using-jit for details.\u001B[0m\n",
      "  def _rec_fill_masks(cluster_matrix, indices_row_pos, indptr, indices, M, ind):\n",
      "/home/sandra/deedevelopment.ai/resmol/venv/lib/python3.10/site-packages/shap/maskers/_tabular.py:186: NumbaDeprecationWarning: \u001B[1mThe 'nopython' keyword argument was not supplied to the 'numba.jit' decorator. The implicit default value for this argument is currently False, but it will be changed to True in Numba 0.59.0. See https://numba.readthedocs.io/en/stable/reference/deprecation.html#deprecation-of-object-mode-fall-back-behaviour-when-using-jit for details.\u001B[0m\n",
      "  def _single_delta_mask(dind, masked_inputs, last_mask, data, x, noop_code):\n",
      "/home/sandra/deedevelopment.ai/resmol/venv/lib/python3.10/site-packages/shap/maskers/_tabular.py:197: NumbaDeprecationWarning: \u001B[1mThe 'nopython' keyword argument was not supplied to the 'numba.jit' decorator. The implicit default value for this argument is currently False, but it will be changed to True in Numba 0.59.0. See https://numba.readthedocs.io/en/stable/reference/deprecation.html#deprecation-of-object-mode-fall-back-behaviour-when-using-jit for details.\u001B[0m\n",
      "  def _delta_masking(masks, x, curr_delta_inds, varying_rows_out,\n",
      "/home/sandra/deedevelopment.ai/resmol/venv/lib/python3.10/site-packages/shap/maskers/_image.py:175: NumbaDeprecationWarning: \u001B[1mThe 'nopython' keyword argument was not supplied to the 'numba.jit' decorator. The implicit default value for this argument is currently False, but it will be changed to True in Numba 0.59.0. See https://numba.readthedocs.io/en/stable/reference/deprecation.html#deprecation-of-object-mode-fall-back-behaviour-when-using-jit for details.\u001B[0m\n",
      "  def _jit_build_partition_tree(xmin, xmax, ymin, ymax, zmin, zmax, total_ywidth, total_zwidth, M, clustering, q):\n",
      "/home/sandra/deedevelopment.ai/resmol/venv/lib/python3.10/site-packages/shap/explainers/_partition.py:676: NumbaDeprecationWarning: \u001B[1mThe 'nopython' keyword argument was not supplied to the 'numba.jit' decorator. The implicit default value for this argument is currently False, but it will be changed to True in Numba 0.59.0. See https://numba.readthedocs.io/en/stable/reference/deprecation.html#deprecation-of-object-mode-fall-back-behaviour-when-using-jit for details.\u001B[0m\n",
      "  def lower_credit(i, value, M, values, clustering):\n",
      "\u001B[1mThe 'nopython' keyword argument was not supplied to the 'numba.jit' decorator. The implicit default value for this argument is currently False, but it will be changed to True in Numba 0.59.0. See https://numba.readthedocs.io/en/stable/reference/deprecation.html#deprecation-of-object-mode-fall-back-behaviour-when-using-jit for details.\u001B[0m\n",
      "\u001B[1mThe 'nopython' keyword argument was not supplied to the 'numba.jit' decorator. The implicit default value for this argument is currently False, but it will be changed to True in Numba 0.59.0. See https://numba.readthedocs.io/en/stable/reference/deprecation.html#deprecation-of-object-mode-fall-back-behaviour-when-using-jit for details.\u001B[0m\n",
      "2023-06-11 21:49:12.974987: I tensorflow/core/util/port.cc:110] oneDNN custom operations are on. You may see slightly different numerical results due to floating-point round-off errors from different computation orders. To turn them off, set the environment variable `TF_ENABLE_ONEDNN_OPTS=0`.\n",
      "2023-06-11 21:49:13.111257: I tensorflow/tsl/cuda/cudart_stub.cc:28] Could not find cuda drivers on your machine, GPU will not be used.\n",
      "2023-06-11 21:49:16.647258: I tensorflow/tsl/cuda/cudart_stub.cc:28] Could not find cuda drivers on your machine, GPU will not be used.\n",
      "2023-06-11 21:49:16.664330: I tensorflow/core/platform/cpu_feature_guard.cc:182] This TensorFlow binary is optimized to use available CPU instructions in performance-critical operations.\n",
      "To enable the following instructions: AVX2 AVX512F AVX512_VNNI FMA, in other operations, rebuild TensorFlow with the appropriate compiler flags.\n",
      "2023-06-11 21:50:15.025374: W tensorflow/compiler/tf2tensorrt/utils/py_utils.cc:38] TF-TRT Warning: Could not find TensorRT\n"
     ]
    }
   ],
   "source": [
    "from IPython.display import Image\n",
    "from IPython.display import display, HTML\n",
    "import pandas as pd\n",
    "import numpy as np\n",
    "\n",
    "from sklearn.model_selection import train_test_split, GridSearchCV\n",
    "from sklearn.preprocessing import StandardScaler\n",
    "from fboost import outlier_iqr, DataPreparator, FeatureBoosterRegressor\n",
    "import matplotlib.pyplot as plt\n",
    "import seaborn as sns\n",
    "\n",
    "from sklearn.preprocessing import OneHotEncoder\n",
    "\n",
    "from sklearn.linear_model import LinearRegression, Lasso, LogisticRegression\n",
    "from sklearn.ensemble import RandomForestRegressor, RandomForestClassifier\n",
    "from sklearn.preprocessing import StandardScaler, MinMaxScaler, RobustScaler, PolynomialFeatures\n",
    "from sklearn.model_selection import train_test_split, GridSearchCV\n",
    "from sklearn.metrics import mean_squared_error\n",
    "from sklearn.inspection import permutation_importance\n",
    "import matplotlib.pyplot as plt\n",
    "from xgboost import XGBRegressor\n",
    "from ffx import FFXRegressor\n",
    "import tensorflow as tf\n",
    "from tensorflow import keras\n",
    "\n",
    "from keras.optimizers import Adam\n",
    "from keras.layers import Lambda\n",
    "from keras.models import Model\n",
    "from keras.layers import Input, Dense, Flatten, Conv1D, MaxPooling1D, concatenate, Conv2D\n",
    "\n",
    "from sklearn.metrics import mean_squared_error\n",
    "from math import sqrt\n",
    "from sklearn.metrics import mean_absolute_error\n",
    "from sklearn.metrics import r2_score\n",
    "\n",
    "from keras_tuner import RandomSearch\n",
    "from keras_tuner.engine.hyperparameters import HyperParameters\n",
    "\n",
    "import warnings\n",
    "warnings.filterwarnings('ignore')\n",
    "\n",
    "# Set a seed value\n",
    "seed_value= 0\n",
    "# 1. Set `PYTHONHASHSEED` environment variable at a fixed value\n",
    "import os\n",
    "os.environ['PYTHONHASHSEED']=str(seed_value)\n",
    "# 2. Set `python` built-in pseudo-random generator at a fixed value\n",
    "import random\n",
    "random.seed(seed_value)\n",
    "# 3. Set `numpy` pseudo-random generator at a fixed value\n",
    "np.random.seed(seed_value)"
   ]
  },
  {
   "cell_type": "code",
   "execution_count": 2,
   "outputs": [],
   "source": [
    "data = pd.read_csv('../data/raw/alldata.csv')\n",
    "data.columns = ['familia','indice_fam','subposicion_1','subposicion_2','subposicion_3','subposicion_4', 'energia']\n",
    "mask = (data[['subposicion_1','subposicion_2','subposicion_3','subposicion_4']] == 0).sum(axis=1) > 1\n",
    "lista_train = data.loc[mask,['subposicion_1','subposicion_2','subposicion_3','subposicion_4','energia']]\n",
    "lista_test = data.loc[~mask,['subposicion_1','subposicion_2','subposicion_3','subposicion_4','energia']]"
   ],
   "metadata": {
    "collapsed": false,
    "ExecuteTime": {
     "end_time": "2023-06-11T19:51:04.738876300Z",
     "start_time": "2023-06-11T19:51:04.520124500Z"
    }
   }
  },
  {
   "cell_type": "code",
   "execution_count": 3,
   "outputs": [],
   "source": [
    "# Instantiate the OneHotEncoder\n",
    "encoder = OneHotEncoder(sparse=False, categories='auto')\n",
    "\n",
    "X_train = lista_train.drop(['energia'], axis=1)\n",
    "X_test = lista_test.drop(['energia'], axis=1)\n",
    "\n",
    "# Fit the encoder and transform the data for both train and test dataframes\n",
    "encoded_train = encoder.fit_transform(X_train)\n",
    "encoded_test = encoder.transform(X_test)\n",
    "\n",
    "# Now, 'encoded_train' and 'encoded_test' are numpy arrays, we can convert them back to dataframes:\n",
    "X_train_scaled = pd.DataFrame(encoded_train, columns=encoder.get_feature_names_out(X_train.columns))\n",
    "X_test_scaled = pd.DataFrame(encoded_test, columns=encoder.get_feature_names_out(X_test.columns))\n",
    "\n",
    "\n",
    "y_test = lista_test['energia']\n",
    "y_train = lista_train['energia']"
   ],
   "metadata": {
    "collapsed": false,
    "ExecuteTime": {
     "end_time": "2023-06-11T19:51:25.442765900Z",
     "start_time": "2023-06-11T19:51:04.766865900Z"
    }
   }
  },
  {
   "cell_type": "code",
   "execution_count": 4,
   "outputs": [
    {
     "name": "stdout",
     "output_type": "stream",
     "text": [
      "LinearRegression R2 (Before feature engineering): 0.3206\n",
      "LinearRegression RMSE (Before feature engineering): 3.7424\n"
     ]
    }
   ],
   "source": [
    "\"\"\"\n",
    "#############################################\n",
    "# 4-LINEAR REGRESSION MODEL WITHFEATURE ENGINEERING #\n",
    "#############################################\n",
    "\"\"\"\n",
    "\n",
    "model_lr = LinearRegression()\n",
    "model_lr.fit(X_train_scaled, y_train)\n",
    "r2_linreg_before = model_lr.score(X_test_scaled, y_test)\n",
    "rmse_linreg_before = np.sqrt(mean_squared_error(y_test, model_lr.predict(X_test_scaled)))\n",
    "print('LinearRegression R2 (Before feature engineering): ' + str(round(r2_linreg_before, 4)))\n",
    "print('LinearRegression RMSE (Before feature engineering): ' + str(round(rmse_linreg_before, 4)))"
   ],
   "metadata": {
    "collapsed": false,
    "ExecuteTime": {
     "end_time": "2023-06-11T19:51:30.040879900Z",
     "start_time": "2023-06-11T19:51:27.616664400Z"
    }
   }
  },
  {
   "cell_type": "code",
   "execution_count": 5,
   "outputs": [
    {
     "data": {
      "text/plain": "<matplotlib.legend.Legend at 0x7f34cdb301f0>"
     },
     "execution_count": 5,
     "metadata": {},
     "output_type": "execute_result"
    },
    {
     "data": {
      "text/plain": "<Figure size 1200x800 with 1 Axes>",
      "image/png": "[encoded data removed]"
     },
     "metadata": {},
     "output_type": "display_data"
    }
   ],
   "source": [
    "fit_results = pd.DataFrame(y_train.copy())\n",
    "fit_results.columns = ['Y_TRUE']\n",
    "test_pred_results = pd.DataFrame(y_test.copy())\n",
    "test_pred_results.columns = ['Y_TRUE']\n",
    "\n",
    "fit_results['Y_FIT'] = model_lr.predict(X_train_scaled).ravel()\n",
    "test_pred_results['Y_PRED'] = model_lr.predict(X_test_scaled)\n",
    "\n",
    "fit_results = fit_results.sort_values(by = ['Y_TRUE']).reset_index(drop = True)\n",
    "test_pred_results = test_pred_results.sort_values(by = ['Y_TRUE']).reset_index(drop = True)\n",
    "\n",
    "#### SCATTER PLOT\n",
    "plt.figure(figsize=(12,8))\n",
    "plt.scatter(fit_results.index,  fit_results['Y_TRUE'], alpha = 0.4, s = 12, label = 'Y_TRUE')\n",
    "plt.scatter(fit_results.index,  fit_results['Y_FIT'], alpha = 0.4, s = 12, label = 'Y_FIT')\n",
    "plt.xlabel('Y_TRUE_RANK_ASENDING_ORDER (SORTED INDEX)')\n",
    "plt.ylabel('Y')\n",
    "plt.title('LinearRegression - BEFORE Feature Engineering' + '\\n' + 'R2:' + str(round(r2_linreg_before, 4)) + ', RMSE:' + str(round(rmse_linreg_before, 2)))\n",
    "plt.legend()"
   ],
   "metadata": {
    "collapsed": false,
    "ExecuteTime": {
     "end_time": "2023-06-11T19:52:29.223696200Z",
     "start_time": "2023-06-11T19:51:30.149180800Z"
    }
   }
  },
  {
   "cell_type": "code",
   "execution_count": 6,
   "outputs": [],
   "source": [
    "class LossAndErrorPrintingCallback(keras.callbacks.Callback):\n",
    "    def on_train_batch_end(self, batch, logs=None):\n",
    "        print(\n",
    "            \"Up to batch {}, the average loss is {:7.2f}.\".format(batch, logs[\"loss\"])\n",
    "        )\n",
    "\n",
    "    def on_test_batch_end(self, batch, logs=None):\n",
    "        print(\n",
    "            \"Up to batch {}, the average loss is {:7.2f}.\".format(batch, logs[\"loss\"])\n",
    "        )\n",
    "\n",
    "    def on_epoch_end(self, epoch, logs=None):\n",
    "        print(\n",
    "            \"The average loss for epoch {} is {:7.2f} \"\n",
    "            \"and mean absolute error is {:7.2f}.\".format(\n",
    "                epoch, logs[\"loss\"], logs[\"mae\"]\n",
    "            )\n",
    "        )"
   ],
   "metadata": {
    "collapsed": false,
    "ExecuteTime": {
     "end_time": "2023-06-11T19:52:29.267783900Z",
     "start_time": "2023-06-11T19:52:27.795096Z"
    }
   }
  },
  {
   "cell_type": "code",
   "execution_count": 7,
   "outputs": [],
   "source": [
    "class EarlyStoppingAtMinLoss(keras.callbacks.Callback):\n",
    "    \"\"\"Stop training when the loss is at its min, i.e. the loss stops decreasing.\n",
    "\n",
    "  Arguments:\n",
    "      patience: Number of epochs to wait after min has been hit. After this\n",
    "      number of no improvement, training stops.\n",
    "  \"\"\"\n",
    "\n",
    "    def __init__(self, patience=50):\n",
    "        super().__init__()\n",
    "        self.patience = patience\n",
    "        # best_weights to store the weights at which the minimum loss occurs.\n",
    "        self.best_weights = None\n",
    "\n",
    "    def on_train_begin(self, logs=None):\n",
    "        # The number of epoch it has waited when loss is no longer minimum.\n",
    "        self.wait = 0\n",
    "        # The epoch the training stops at.\n",
    "        self.stopped_epoch = 0\n",
    "        # Initialize the best as infinity.\n",
    "        self.best = np.Inf\n",
    "\n",
    "    def on_epoch_end(self, epoch, logs=None):\n",
    "        current = logs.get(\"loss\")\n",
    "        if np.less(current, self.best):\n",
    "            self.best = current\n",
    "            self.wait = 0\n",
    "            # Record the best weights if current results is better (less).\n",
    "            self.best_weights = self.model.get_weights()\n",
    "        else:\n",
    "            self.wait += 1\n",
    "            if self.wait >= self.patience:\n",
    "                self.stopped_epoch = epoch\n",
    "                self.model.stop_training = True\n",
    "                print(\"Restoring model weights from the end of the best epoch.\")\n",
    "                self.model.set_weights(self.best_weights)\n",
    "\n",
    "    def on_train_end(self, logs=None):\n",
    "        if self.stopped_epoch > 0:\n",
    "            print(\"Epoch %05d: early stopping\" % (self.stopped_epoch + 1))"
   ],
   "metadata": {
    "collapsed": false,
    "ExecuteTime": {
     "end_time": "2023-06-11T19:52:29.286577800Z",
     "start_time": "2023-06-11T19:52:27.922841800Z"
    }
   }
  },
  {
   "cell_type": "code",
   "execution_count": 8,
   "outputs": [],
   "source": [
    "# Reload the dataset\n",
    "data = pd.read_csv('../data/raw/alldata.csv')\n",
    "data.columns = ['familia','indice_fam','subposicion_1','subposicion_2','subposicion_3','subposicion_4', 'energia']\n",
    "mask = (data[['subposicion_1','subposicion_2','subposicion_3','subposicion_4']] == 0).sum(axis=1) > 1\n",
    "lista_train = data.loc[mask,['subposicion_1','subposicion_2','subposicion_3','subposicion_4','energia']]\n",
    "lista_test = data.loc[~mask,['subposicion_1','subposicion_2','subposicion_3','subposicion_4','energia']]\n",
    "\n",
    "X_train = lista_train.drop(['energia'], axis=1)\n",
    "X_test = lista_test.drop(['energia'], axis=1)\n",
    "\n",
    "y_test = lista_test['energia']\n",
    "y_train = lista_train['energia']\n"
   ],
   "metadata": {
    "collapsed": false,
    "ExecuteTime": {
     "end_time": "2023-06-11T19:52:39.150236300Z",
     "start_time": "2023-06-11T19:52:28.758272200Z"
    }
   }
  },
  {
   "cell_type": "code",
   "execution_count": 9,
   "outputs": [],
   "source": [
    "\n",
    "# assuming df is your DataFrame\n",
    "df = lista_train.drop(['energia'], axis=1)\n",
    "\n",
    "# replace zeros with np.nan\n",
    "df = df.replace(0, np.nan)\n",
    "\n",
    "# instantiate OneHotEncoder\n",
    "enc = OneHotEncoder(sparse=False, handle_unknown='ignore')\n",
    "\n",
    "# apply OneHotEncoder to df\n",
    "onehot_df = enc.fit_transform(df)\n",
    "\n",
    "# create H matrix\n",
    "H = np.zeros(df.shape)\n",
    "\n",
    "# specify the position of non-zero values in H\n",
    "for i in range(df.shape[0]):\n",
    "    for j in range(df.shape[1]):\n",
    "        if not np.isnan(df.iloc[i, j]):\n",
    "            H[i, j] = j+1  # or just 1, based on your requirements\n",
    "\n"
   ],
   "metadata": {
    "collapsed": false,
    "ExecuteTime": {
     "end_time": "2023-06-11T19:52:39.227048600Z",
     "start_time": "2023-06-11T19:52:30.135597500Z"
    }
   }
  },
  {
   "cell_type": "code",
   "execution_count": 10,
   "outputs": [],
   "source": [
    "# assuming onehot_df_encoded and H are your input data and are numpy arrays\n",
    "# reshape data for Conv1D, the format should be (n_samples, steps, channels)\n",
    "onehot_df_encoded = onehot_df.reshape((170, 24, 1))\n",
    "H_encoded = H.reshape((170, 4, 1))\n",
    "\n",
    "# target data\n",
    "y_train = np.array(y_train)\n"
   ],
   "metadata": {
    "collapsed": false,
    "ExecuteTime": {
     "end_time": "2023-06-11T19:52:39.600223300Z",
     "start_time": "2023-06-11T19:52:32.146571700Z"
    }
   }
  },
  {
   "cell_type": "code",
   "execution_count": 11,
   "outputs": [],
   "source": [
    "# assuming df is your DataFrame\n",
    "df_test = lista_test.drop(['energia'], axis=1)\n",
    "\n",
    "# replace zeros with np.nan\n",
    "df_test = df_test.replace(0, np.nan)\n",
    "\n",
    "# instantiate OneHotEncoder\n",
    "enc = OneHotEncoder(sparse=False, handle_unknown='ignore')\n",
    "\n",
    "# apply OneHotEncoder to df\n",
    "onehot_df_test = enc.fit_transform(df_test)\n",
    "\n",
    "# create H matrix\n",
    "H_test = np.zeros(df_test.shape)\n",
    "\n",
    "# specify the position of non-zero values in H\n",
    "for i in range(df_test.shape[0]):\n",
    "    for j in range(df_test.shape[1]):\n",
    "        if not np.isnan(df_test.iloc[i, j]):\n",
    "            H_test[i, j] = j+1  # or just 1, based on your requirements\n"
   ],
   "metadata": {
    "collapsed": false,
    "ExecuteTime": {
     "end_time": "2023-06-11T19:52:51.030183700Z",
     "start_time": "2023-06-11T19:52:32.682463100Z"
    }
   }
  },
  {
   "cell_type": "code",
   "execution_count": 12,
   "outputs": [],
   "source": [
    "onehot_df_test_encoded = onehot_df_test.reshape((onehot_df_test.shape[0], 24, 1))\n",
    "H_test_encoded = H_test.reshape((H_test.shape[0], 4, 1))\n",
    "\n",
    "# target data\n",
    "y_test = np.array(y_test)"
   ],
   "metadata": {
    "collapsed": false,
    "ExecuteTime": {
     "end_time": "2023-06-11T19:52:54.032179100Z",
     "start_time": "2023-06-11T19:52:53.606908500Z"
    }
   }
  },
  {
   "cell_type": "code",
   "execution_count": 13,
   "outputs": [
    {
     "name": "stdout",
     "output_type": "stream",
     "text": [
      "INFO:tensorflow:Reloading Tuner from ./untitled_project/tuner0.json\n",
      "INFO:tensorflow:Oracle triggered exit\n"
     ]
    }
   ],
   "source": [
    "\n",
    "\n",
    "def build_model(hp):\n",
    "    # Input layers\n",
    "    input_onehot_1d = Input(shape=(24, 1))\n",
    "    input_H_1d = Input(shape=(4, 1))\n",
    "\n",
    "    # Convolutional layers\n",
    "    conv_onehot_1d = Conv1D(filters=hp.Int('conv_filters', min_value=16, max_value=32, step=16),\n",
    "                            kernel_size=hp.Choice('conv_kernel_size', values=[3]),\n",
    "                            activation='relu')(input_onehot_1d)\n",
    "    conv_H_1d = Conv1D(16, 3, activation='relu')(input_H_1d)  # Reduced kernel size from 5 to 3\n",
    "\n",
    "\n",
    "    # Pooling layers\n",
    "    pool_onehot_1d = MaxPooling1D(pool_size=2)(conv_onehot_1d)\n",
    "    pool_H_1d = MaxPooling1D(pool_size=2)(conv_H_1d)\n",
    "\n",
    "    # Flatten layers\n",
    "    flat_onehot_1d = Flatten()(pool_onehot_1d)\n",
    "    flat_H_1d = Flatten()(pool_H_1d)\n",
    "\n",
    "    # Concatenate layer\n",
    "    concat_layer_1d = concatenate([flat_onehot_1d, flat_H_1d])\n",
    "\n",
    "    # Dense layers\n",
    "    dense_1d = Dense(units=hp.Int('dense_units', min_value=128, max_value=256, step=64),\n",
    "                     activation='relu')(concat_layer_1d)\n",
    "    dense_2_1d = Dense(128, activation='relu')(dense_1d)\n",
    "    output_1d = Dense(1, activation='linear')(dense_2_1d)  # assuming this is a regression problem\n",
    "\n",
    "    # create model with two inputs\n",
    "    model_1d = Model(inputs=[input_onehot_1d, input_H_1d], outputs=output_1d)\n",
    "\n",
    "    # compile model\n",
    "    opt_1d = Adam(learning_rate=hp.Float('learning_rate', min_value=0.0001, max_value=0.01, sampling='LOG', default=0.001))\n",
    "    model_1d.compile(optimizer=opt_1d, loss='logcosh', metrics=['mae'])\n",
    "\n",
    "    return model_1d\n",
    "\n",
    "tuner = RandomSearch(\n",
    "    build_model,\n",
    "    objective='val_mae',\n",
    "    max_trials=50,  # Number of different combinations to try\n",
    "    executions_per_trial=10  # Number of trials to run each combination, the results will be averaged\n",
    ")\n",
    "from sklearn.model_selection import train_test_split\n",
    "\n",
    "# Split the data\n",
    "onehot_df_train, onehot_df_val, H_train, H_val, y_train, y_val = train_test_split(onehot_df_encoded, H_encoded, y_train, test_size=0.2, random_state=42)\n",
    "\n",
    "# Continue with the tuner search\n",
    "tuner.search([onehot_df_train, H_train], y_train, epochs=20, validation_data=([onehot_df_val, H_val], y_val))\n",
    "\n"
   ],
   "metadata": {
    "collapsed": false,
    "ExecuteTime": {
     "end_time": "2023-06-11T19:54:01.963159300Z",
     "start_time": "2023-06-11T19:52:54.210444700Z"
    }
   }
  },
  {
   "cell_type": "code",
   "execution_count": 14,
   "outputs": [
    {
     "name": "stdout",
     "output_type": "stream",
     "text": [
      "{'conv_filters': 16, 'conv_kernel_size': 5, 'dense_units': 192, 'learning_rate': 0.007087792290208363}\n"
     ]
    }
   ],
   "source": [
    "best_model = tuner.get_best_models(num_models=1)[0]\n",
    "\n",
    "best_hyperparameters = tuner.get_best_hyperparameters(1)[0]\n",
    "print(best_hyperparameters.values)\n",
    "\n",
    "\n"
   ],
   "metadata": {
    "collapsed": false,
    "ExecuteTime": {
     "end_time": "2023-06-11T19:54:02.627680200Z",
     "start_time": "2023-06-11T19:53:39.232877200Z"
    }
   }
  },
  {
   "cell_type": "code",
   "execution_count": 15,
   "outputs": [
    {
     "ename": "NameError",
     "evalue": "name 'model_1d' is not defined",
     "output_type": "error",
     "traceback": [
      "\u001B[0;31m---------------------------------------------------------------------------\u001B[0m",
      "\u001B[0;31mNameError\u001B[0m                                 Traceback (most recent call last)",
      "Cell \u001B[0;32mIn[15], line 2\u001B[0m\n\u001B[1;32m      1\u001B[0m \u001B[38;5;66;03m# Train the model\u001B[39;00m\n\u001B[0;32m----> 2\u001B[0m \u001B[43mmodel_1d\u001B[49m\u001B[38;5;241m.\u001B[39mfit([onehot_df_encoded, H_encoded], y_train, epochs\u001B[38;5;241m=\u001B[39m\u001B[38;5;241m200\u001B[39m, batch_size\u001B[38;5;241m=\u001B[39m\u001B[38;5;241m32\u001B[39m, validation_split\u001B[38;5;241m=\u001B[39m\u001B[38;5;241m0.2\u001B[39m, verbose\u001B[38;5;241m=\u001B[39m\u001B[38;5;241m0\u001B[39m,\n\u001B[1;32m      3\u001B[0m              callbacks\u001B[38;5;241m=\u001B[39m[LossAndErrorPrintingCallback(), EarlyStoppingAtMinLoss()])\n",
      "\u001B[0;31mNameError\u001B[0m: name 'model_1d' is not defined"
     ]
    }
   ],
   "source": [
    "# Train the model\n",
    "model_1d.fit([onehot_df_encoded, H_encoded], y_train, epochs=200, batch_size=32, validation_split=0.2, verbose=0,\n",
    "             callbacks=[LossAndErrorPrintingCallback(), EarlyStoppingAtMinLoss()])\n"
   ],
   "metadata": {
    "collapsed": false,
    "ExecuteTime": {
     "end_time": "2023-06-11T19:54:05.288005900Z",
     "start_time": "2023-06-11T19:53:39.241363Z"
    }
   }
  },
  {
   "cell_type": "code",
   "execution_count": null,
   "outputs": [],
   "source": [
    "y_pred_1d = model_1d.predict([onehot_df_test_encoded, H_test_encoded])\n"
   ],
   "metadata": {
    "collapsed": false,
    "ExecuteTime": {
     "start_time": "2023-06-11T19:54:02.819136500Z"
    }
   }
  },
  {
   "cell_type": "code",
   "execution_count": null,
   "outputs": [],
   "source": [
    "loss_1d = model_1d.evaluate([onehot_df_test_encoded, H_test_encoded], y_test)\n",
    "print('Test loss:', loss_1d)"
   ],
   "metadata": {
    "collapsed": false,
    "ExecuteTime": {
     "start_time": "2023-06-11T19:54:03.027825300Z"
    }
   }
  },
  {
   "cell_type": "code",
   "execution_count": null,
   "outputs": [],
   "source": [
    "# plot predicted vs real values\n",
    "plt.figure(figsize=(10, 5))\n",
    "plt.plot(y_test, label='Real')\n",
    "plt.plot(y_pred_1d, label='Predicted')\n",
    "plt.legend()\n",
    "plt.show()"
   ],
   "metadata": {
    "collapsed": false,
    "ExecuteTime": {
     "start_time": "2023-06-11T19:54:03.033532700Z"
    }
   }
  },
  {
   "cell_type": "code",
   "execution_count": null,
   "outputs": [],
   "source": [
    "\n",
    "mse_1d = mean_squared_error(y_test, y_pred_1d)\n",
    "rmse_1d = sqrt(mse_1d)\n",
    "mae_1d = mean_absolute_error(y_test, y_pred_1d)\n",
    "r2_1d = r2_score(y_test, y_pred_1d)\n",
    "\n",
    "# Print metrics\n",
    "print(f'Mean Squared Error (MSE): {mse_1d}')\n",
    "print(f'Root Mean Squared Error (RMSE): {rmse_1d}')\n",
    "print(f'Mean Absolute Error (MAE): {mae_1d}')\n",
    "print(f'R^2 Score: {r2_1d}')"
   ],
   "metadata": {
    "collapsed": false,
    "ExecuteTime": {
     "start_time": "2023-06-11T19:54:03.042178500Z"
    }
   }
  },
  {
   "cell_type": "code",
   "execution_count": null,
   "outputs": [],
   "source": [
    "\n",
    "\n",
    "# Define inputs\n",
    "input_onehot = Input(shape=(24, 1, 1))  # onehot_df\n",
    "input_h = Input(shape=(4, 1, 1))  # H\n",
    "\n",
    "# Convolutional Layer\n",
    "conv_layer = Conv2D(128, kernel_size=(1, 1), activation='relu')  # Number of filters = 32. This can be changed based on your preference\n",
    "\n",
    "# Applying Convolutional layer on both inputs\n",
    "conv_onehot = conv_layer(input_onehot)\n",
    "conv_h = conv_layer(input_h)\n",
    "\n",
    "# Flatten Layers\n",
    "flatten_onehot = Flatten()(conv_onehot)\n",
    "flatten_h = Flatten()(conv_h)\n",
    "\n",
    "# Concatenating the two inputs after Convolutional layer\n",
    "#concat_layer = concatenate([flatten_onehot, flatten_h])\n",
    "\n",
    "# Dense Layers\n",
    "#dense_1 = Dense(256, activation='relu')(concat_layer)\n",
    "dense_1 = Dense(1024, activation='relu')(flatten_onehot)\n",
    "#dense_1 = Dropout(0.1)(dense_1)  # 20% dropout\n",
    "dense_2 = Dense(512, activation='relu')(dense_1)\n",
    "#dense_2 = Dropout(0.1)(dense_2)  # 20% dropout\n",
    "dense_3 = Dense(256, activation='relu')(dense_2)\n",
    "#dense_3 = Dropout(0.1)(dense_3)  # 20% dropout\n",
    "dense_4 = Dense(128, activation='relu')(dense_3)\n",
    "#dense_4 = Dropout(0.1)(dense_4)  # 20% dropout\n",
    "dense_5 = Dense(64, activation='relu')(dense_4)\n",
    "#dense_5 = Dropout(0.1)(dense_5)  # 20% dropout\n",
    "dense_6 = Dense(32, activation='relu')(dense_5)\n",
    "#dense_6 = Dropout(0.1)(dense_6)  # 20% dropout\n",
    "dense_7 = Dense(16, activation='relu')(dense_6)\n",
    "#dense_7 = Dropout(0.1)(dense_7)  # 20% dropout\n",
    "# Output Layer with a Scaler (min-max scaling)\n",
    "output = Dense(1, activation='linear')(dense_7)  # Dense layer before scaling\n",
    "\n",
    "# Define model\n",
    "model_conv2d = Model(inputs=[input_onehot, input_h], outputs=output)\n",
    "\n",
    "# Model compilation\n",
    "opt = Adam(learning_rate=0.001)\n",
    "model_conv2d.compile(optimizer=opt, loss='logcosh', metrics=['mae'])\n"
   ],
   "metadata": {
    "collapsed": false,
    "ExecuteTime": {
     "start_time": "2023-06-11T19:54:03.047420200Z"
    }
   }
  },
  {
   "cell_type": "code",
   "execution_count": null,
   "outputs": [],
   "source": [
    "\n",
    "# Train the model\n",
    "history = model_conv2d.fit([onehot_df_encoded, H_encoded], y_train, epochs=200, batch_size=64, validation_split=0.2, verbose=0,\n",
    "                           callbacks=[LossAndErrorPrintingCallback(), EarlyStoppingAtMinLoss()])"
   ],
   "metadata": {
    "collapsed": false,
    "ExecuteTime": {
     "start_time": "2023-06-11T19:54:03.050635300Z"
    }
   }
  },
  {
   "cell_type": "code",
   "execution_count": null,
   "outputs": [],
   "source": [
    "# Predict the testing data\n",
    "y_pred_2d = model_conv2d.predict([onehot_df_test_encoded, H_test_encoded])\n"
   ],
   "metadata": {
    "collapsed": false,
    "ExecuteTime": {
     "start_time": "2023-06-11T19:54:03.064044900Z"
    }
   }
  },
  {
   "cell_type": "code",
   "execution_count": null,
   "outputs": [],
   "source": [
    "loss_2d = model_conv2d.evaluate([onehot_df_test_encoded, H_test_encoded], y_test)\n",
    "print('Test loss:', loss_2d)"
   ],
   "metadata": {
    "collapsed": false,
    "ExecuteTime": {
     "start_time": "2023-06-11T19:54:03.136531400Z"
    }
   }
  },
  {
   "cell_type": "code",
   "execution_count": null,
   "outputs": [],
   "source": [
    "# print the first few predicted and real values\n",
    "for i in range(10):  # print the first 10 values\n",
    "    print(f\"Predicted value: {y_pred_2d[i]}, Real value: {y_test[i]}\")"
   ],
   "metadata": {
    "collapsed": false,
    "ExecuteTime": {
     "start_time": "2023-06-11T19:54:03.188452700Z"
    }
   }
  },
  {
   "cell_type": "code",
   "execution_count": null,
   "outputs": [],
   "source": [
    "# plot predicted vs real values\n",
    "plt.figure(figsize=(10, 5))\n",
    "plt.plot(y_test, label='Real')\n",
    "plt.plot(y_pred_2d, label='Predicted')\n",
    "plt.legend()\n",
    "plt.show()\n"
   ],
   "metadata": {
    "collapsed": false,
    "ExecuteTime": {
     "start_time": "2023-06-11T19:54:03.202013100Z"
    }
   }
  },
  {
   "cell_type": "code",
   "execution_count": null,
   "outputs": [],
   "source": [
    "\n",
    "mse_2d = mean_squared_error(y_test, y_pred_2d)\n",
    "rmse_2d = sqrt(mse_2d)\n",
    "mae_2d = mean_absolute_error(y_test, y_pred_2d)\n",
    "r2_2d = r2_score(y_test, y_pred_2d)\n",
    "\n",
    "# Print metrics\n",
    "print(f'Mean Squared Error (MSE): {mse_2d}')\n",
    "print(f'Root Mean Squared Error (RMSE): {rmse_2d}')\n",
    "print(f'Mean Absolute Error (MAE): {mae_2d}')\n",
    "print(f'R^2 Score: {r2_2d}')\n"
   ],
   "metadata": {
    "collapsed": false,
    "ExecuteTime": {
     "start_time": "2023-06-11T19:54:03.221216Z"
    }
   }
  },
  {
   "cell_type": "code",
   "execution_count": null,
   "outputs": [],
   "source": [],
   "metadata": {
    "collapsed": false,
    "ExecuteTime": {
     "start_time": "2023-06-11T19:54:03.277016400Z"
    }
   }
  },
  {
   "cell_type": "code",
   "execution_count": null,
   "outputs": [],
   "source": [],
   "metadata": {
    "collapsed": false,
    "ExecuteTime": {
     "start_time": "2023-06-11T19:54:03.361027300Z"
    }
   }
  },
  {
   "cell_type": "code",
   "execution_count": null,
   "outputs": [],
   "source": [],
   "metadata": {
    "collapsed": false,
    "ExecuteTime": {
     "start_time": "2023-06-11T19:54:03.466745100Z"
    }
   }
  }
 ],
 "metadata": {
  "kernelspec": {
   "display_name": "Python 3",
   "language": "python",
   "name": "python3"
  },
  "language_info": {
   "codemirror_mode": {
    "name": "ipython",
    "version": 2
   },
   "file_extension": ".py",
   "mimetype": "text/x-python",
   "name": "python",
   "nbconvert_exporter": "python",
   "pygments_lexer": "ipython2",
   "version": "2.7.6"
  }
 },
 "nbformat": 4,
 "nbformat_minor": 0
}
