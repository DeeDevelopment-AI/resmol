{
 "cells": [
  {
   "cell_type": "code",
   "execution_count": 1,
   "metadata": {
    "ExecuteTime": {
     "end_time": "2023-06-13T18:27:55.249085100Z",
     "start_time": "2023-06-13T18:27:55.242080400Z"
    },
    "collapsed": true
   },
   "outputs": [
    {
     "name": "stderr",
     "output_type": "stream",
     "text": [
      "/home/sandra/deedevelopment.ai/resmol/venv/lib/python3.10/site-packages/shap/utils/_clustering.py:35: NumbaDeprecationWarning: \u001b[1mThe 'nopython' keyword argument was not supplied to the 'numba.jit' decorator. The implicit default value for this argument is currently False, but it will be changed to True in Numba 0.59.0. See https://numba.readthedocs.io/en/stable/reference/deprecation.html#deprecation-of-object-mode-fall-back-behaviour-when-using-jit for details.\u001b[0m\n",
      "  def _pt_shuffle_rec(i, indexes, index_mask, partition_tree, M, pos):\n",
      "/home/sandra/deedevelopment.ai/resmol/venv/lib/python3.10/site-packages/shap/utils/_clustering.py:54: NumbaDeprecationWarning: \u001b[1mThe 'nopython' keyword argument was not supplied to the 'numba.jit' decorator. The implicit default value for this argument is currently False, but it will be changed to True in Numba 0.59.0. See https://numba.readthedocs.io/en/stable/reference/deprecation.html#deprecation-of-object-mode-fall-back-behaviour-when-using-jit for details.\u001b[0m\n",
      "  def delta_minimization_order(all_masks, max_swap_size=100, num_passes=2):\n",
      "/home/sandra/deedevelopment.ai/resmol/venv/lib/python3.10/site-packages/shap/utils/_clustering.py:63: NumbaDeprecationWarning: \u001b[1mThe 'nopython' keyword argument was not supplied to the 'numba.jit' decorator. The implicit default value for this argument is currently False, but it will be changed to True in Numba 0.59.0. See https://numba.readthedocs.io/en/stable/reference/deprecation.html#deprecation-of-object-mode-fall-back-behaviour-when-using-jit for details.\u001b[0m\n",
      "  def _reverse_window(order, start, length):\n",
      "/home/sandra/deedevelopment.ai/resmol/venv/lib/python3.10/site-packages/shap/utils/_clustering.py:69: NumbaDeprecationWarning: \u001b[1mThe 'nopython' keyword argument was not supplied to the 'numba.jit' decorator. The implicit default value for this argument is currently False, but it will be changed to True in Numba 0.59.0. See https://numba.readthedocs.io/en/stable/reference/deprecation.html#deprecation-of-object-mode-fall-back-behaviour-when-using-jit for details.\u001b[0m\n",
      "  def _reverse_window_score_gain(masks, order, start, length):\n",
      "/home/sandra/deedevelopment.ai/resmol/venv/lib/python3.10/site-packages/shap/utils/_clustering.py:77: NumbaDeprecationWarning: \u001b[1mThe 'nopython' keyword argument was not supplied to the 'numba.jit' decorator. The implicit default value for this argument is currently False, but it will be changed to True in Numba 0.59.0. See https://numba.readthedocs.io/en/stable/reference/deprecation.html#deprecation-of-object-mode-fall-back-behaviour-when-using-jit for details.\u001b[0m\n",
      "  def _mask_delta_score(m1, m2):\n",
      "/home/sandra/deedevelopment.ai/resmol/venv/lib/python3.10/site-packages/shap/links.py:5: NumbaDeprecationWarning: \u001b[1mThe 'nopython' keyword argument was not supplied to the 'numba.jit' decorator. The implicit default value for this argument is currently False, but it will be changed to True in Numba 0.59.0. See https://numba.readthedocs.io/en/stable/reference/deprecation.html#deprecation-of-object-mode-fall-back-behaviour-when-using-jit for details.\u001b[0m\n",
      "  def identity(x):\n",
      "/home/sandra/deedevelopment.ai/resmol/venv/lib/python3.10/site-packages/shap/links.py:10: NumbaDeprecationWarning: \u001b[1mThe 'nopython' keyword argument was not supplied to the 'numba.jit' decorator. The implicit default value for this argument is currently False, but it will be changed to True in Numba 0.59.0. See https://numba.readthedocs.io/en/stable/reference/deprecation.html#deprecation-of-object-mode-fall-back-behaviour-when-using-jit for details.\u001b[0m\n",
      "  def _identity_inverse(x):\n",
      "/home/sandra/deedevelopment.ai/resmol/venv/lib/python3.10/site-packages/shap/links.py:15: NumbaDeprecationWarning: \u001b[1mThe 'nopython' keyword argument was not supplied to the 'numba.jit' decorator. The implicit default value for this argument is currently False, but it will be changed to True in Numba 0.59.0. See https://numba.readthedocs.io/en/stable/reference/deprecation.html#deprecation-of-object-mode-fall-back-behaviour-when-using-jit for details.\u001b[0m\n",
      "  def logit(x):\n",
      "/home/sandra/deedevelopment.ai/resmol/venv/lib/python3.10/site-packages/shap/links.py:20: NumbaDeprecationWarning: \u001b[1mThe 'nopython' keyword argument was not supplied to the 'numba.jit' decorator. The implicit default value for this argument is currently False, but it will be changed to True in Numba 0.59.0. See https://numba.readthedocs.io/en/stable/reference/deprecation.html#deprecation-of-object-mode-fall-back-behaviour-when-using-jit for details.\u001b[0m\n",
      "  def _logit_inverse(x):\n",
      "/home/sandra/deedevelopment.ai/resmol/venv/lib/python3.10/site-packages/shap/utils/_masked_model.py:363: NumbaDeprecationWarning: \u001b[1mThe 'nopython' keyword argument was not supplied to the 'numba.jit' decorator. The implicit default value for this argument is currently False, but it will be changed to True in Numba 0.59.0. See https://numba.readthedocs.io/en/stable/reference/deprecation.html#deprecation-of-object-mode-fall-back-behaviour-when-using-jit for details.\u001b[0m\n",
      "  def _build_fixed_single_output(averaged_outs, last_outs, outputs, batch_positions, varying_rows, num_varying_rows, link, linearizing_weights):\n",
      "/home/sandra/deedevelopment.ai/resmol/venv/lib/python3.10/site-packages/shap/utils/_masked_model.py:385: NumbaDeprecationWarning: \u001b[1mThe 'nopython' keyword argument was not supplied to the 'numba.jit' decorator. The implicit default value for this argument is currently False, but it will be changed to True in Numba 0.59.0. See https://numba.readthedocs.io/en/stable/reference/deprecation.html#deprecation-of-object-mode-fall-back-behaviour-when-using-jit for details.\u001b[0m\n",
      "  def _build_fixed_multi_output(averaged_outs, last_outs, outputs, batch_positions, varying_rows, num_varying_rows, link, linearizing_weights):\n",
      "/home/sandra/deedevelopment.ai/resmol/venv/lib/python3.10/site-packages/shap/utils/_masked_model.py:428: NumbaDeprecationWarning: \u001b[1mThe 'nopython' keyword argument was not supplied to the 'numba.jit' decorator. The implicit default value for this argument is currently False, but it will be changed to True in Numba 0.59.0. See https://numba.readthedocs.io/en/stable/reference/deprecation.html#deprecation-of-object-mode-fall-back-behaviour-when-using-jit for details.\u001b[0m\n",
      "  def _init_masks(cluster_matrix, M, indices_row_pos, indptr):\n",
      "/home/sandra/deedevelopment.ai/resmol/venv/lib/python3.10/site-packages/shap/utils/_masked_model.py:439: NumbaDeprecationWarning: \u001b[1mThe 'nopython' keyword argument was not supplied to the 'numba.jit' decorator. The implicit default value for this argument is currently False, but it will be changed to True in Numba 0.59.0. See https://numba.readthedocs.io/en/stable/reference/deprecation.html#deprecation-of-object-mode-fall-back-behaviour-when-using-jit for details.\u001b[0m\n",
      "  def _rec_fill_masks(cluster_matrix, indices_row_pos, indptr, indices, M, ind):\n",
      "/home/sandra/deedevelopment.ai/resmol/venv/lib/python3.10/site-packages/shap/maskers/_tabular.py:186: NumbaDeprecationWarning: \u001b[1mThe 'nopython' keyword argument was not supplied to the 'numba.jit' decorator. The implicit default value for this argument is currently False, but it will be changed to True in Numba 0.59.0. See https://numba.readthedocs.io/en/stable/reference/deprecation.html#deprecation-of-object-mode-fall-back-behaviour-when-using-jit for details.\u001b[0m\n",
      "  def _single_delta_mask(dind, masked_inputs, last_mask, data, x, noop_code):\n",
      "/home/sandra/deedevelopment.ai/resmol/venv/lib/python3.10/site-packages/shap/maskers/_tabular.py:197: NumbaDeprecationWarning: \u001b[1mThe 'nopython' keyword argument was not supplied to the 'numba.jit' decorator. The implicit default value for this argument is currently False, but it will be changed to True in Numba 0.59.0. See https://numba.readthedocs.io/en/stable/reference/deprecation.html#deprecation-of-object-mode-fall-back-behaviour-when-using-jit for details.\u001b[0m\n",
      "  def _delta_masking(masks, x, curr_delta_inds, varying_rows_out,\n",
      "/home/sandra/deedevelopment.ai/resmol/venv/lib/python3.10/site-packages/shap/maskers/_image.py:175: NumbaDeprecationWarning: \u001b[1mThe 'nopython' keyword argument was not supplied to the 'numba.jit' decorator. The implicit default value for this argument is currently False, but it will be changed to True in Numba 0.59.0. See https://numba.readthedocs.io/en/stable/reference/deprecation.html#deprecation-of-object-mode-fall-back-behaviour-when-using-jit for details.\u001b[0m\n",
      "  def _jit_build_partition_tree(xmin, xmax, ymin, ymax, zmin, zmax, total_ywidth, total_zwidth, M, clustering, q):\n",
      "/home/sandra/deedevelopment.ai/resmol/venv/lib/python3.10/site-packages/shap/explainers/_partition.py:676: NumbaDeprecationWarning: \u001b[1mThe 'nopython' keyword argument was not supplied to the 'numba.jit' decorator. The implicit default value for this argument is currently False, but it will be changed to True in Numba 0.59.0. See https://numba.readthedocs.io/en/stable/reference/deprecation.html#deprecation-of-object-mode-fall-back-behaviour-when-using-jit for details.\u001b[0m\n",
      "  def lower_credit(i, value, M, values, clustering):\n",
      "\u001b[1mThe 'nopython' keyword argument was not supplied to the 'numba.jit' decorator. The implicit default value for this argument is currently False, but it will be changed to True in Numba 0.59.0. See https://numba.readthedocs.io/en/stable/reference/deprecation.html#deprecation-of-object-mode-fall-back-behaviour-when-using-jit for details.\u001b[0m\n",
      "\u001b[1mThe 'nopython' keyword argument was not supplied to the 'numba.jit' decorator. The implicit default value for this argument is currently False, but it will be changed to True in Numba 0.59.0. See https://numba.readthedocs.io/en/stable/reference/deprecation.html#deprecation-of-object-mode-fall-back-behaviour-when-using-jit for details.\u001b[0m\n",
      "2023-06-14 21:20:53.919217: I tensorflow/core/util/port.cc:110] oneDNN custom operations are on. You may see slightly different numerical results due to floating-point round-off errors from different computation orders. To turn them off, set the environment variable `TF_ENABLE_ONEDNN_OPTS=0`.\n",
      "2023-06-14 21:20:53.921836: I tensorflow/tsl/cuda/cudart_stub.cc:28] Could not find cuda drivers on your machine, GPU will not be used.\n",
      "2023-06-14 21:20:53.956689: I tensorflow/tsl/cuda/cudart_stub.cc:28] Could not find cuda drivers on your machine, GPU will not be used.\n",
      "2023-06-14 21:20:53.957659: I tensorflow/core/platform/cpu_feature_guard.cc:182] This TensorFlow binary is optimized to use available CPU instructions in performance-critical operations.\n",
      "To enable the following instructions: AVX2 AVX512F AVX512_VNNI FMA, in other operations, rebuild TensorFlow with the appropriate compiler flags.\n",
      "2023-06-14 21:20:54.606239: W tensorflow/compiler/tf2tensorrt/utils/py_utils.cc:38] TF-TRT Warning: Could not find TensorRT\n"
     ]
    }
   ],
   "source": [
    "from IPython.display import Image\n",
    "from IPython.display import display, HTML\n",
    "import pandas as pd\n",
    "import numpy as np\n",
    "\n",
    "from sklearn.model_selection import train_test_split, GridSearchCV\n",
    "from sklearn.preprocessing import StandardScaler\n",
    "from fboost import outlier_iqr, DataPreparator, FeatureBoosterRegressor\n",
    "import matplotlib.pyplot as plt\n",
    "import seaborn as sns\n",
    "\n",
    "from sklearn.preprocessing import OneHotEncoder\n",
    "\n",
    "from sklearn.linear_model import LinearRegression, Lasso\n",
    "from sklearn.ensemble import RandomForestRegressor\n",
    "from sklearn.preprocessing import StandardScaler, MinMaxScaler, RobustScaler, PolynomialFeatures\n",
    "from sklearn.model_selection import train_test_split, GridSearchCV\n",
    "from sklearn.inspection import permutation_importance\n",
    "import matplotlib.pyplot as plt\n",
    "from xgboost import XGBRegressor\n",
    "from ffx import FFXRegressor\n",
    "import tensorflow as tf\n",
    "from tensorflow import keras\n",
    "\n",
    "from sklearn.metrics import mean_squared_error\n",
    "from math import sqrt\n",
    "from sklearn.metrics import mean_absolute_error\n",
    "from sklearn.metrics import r2_score\n",
    "\n",
    "\n",
    "import warnings\n",
    "warnings.filterwarnings('ignore')\n",
    "\n",
    "# Set a seed value\n",
    "seed_value= 0\n",
    "# 1. Set `PYTHONHASHSEED` environment variable at a fixed value\n",
    "import os\n",
    "os.environ['PYTHONHASHSEED']=str(seed_value)\n",
    "# 2. Set `python` built-in pseudo-random generator at a fixed value\n",
    "import random\n",
    "random.seed(seed_value)\n",
    "# 3. Set `numpy` pseudo-random generator at a fixed value\n",
    "np.random.seed(seed_value)"
   ]
  },
  {
   "cell_type": "code",
   "execution_count": 2,
   "metadata": {
    "ExecuteTime": {
     "end_time": "2023-06-13T18:27:55.306118300Z",
     "start_time": "2023-06-13T18:27:55.248085500Z"
    },
    "collapsed": false
   },
   "outputs": [],
   "source": [
    "data = pd.read_csv('../data/raw/alldata.csv')\n",
    "data.columns = ['familia','indice_fam','subposicion_1','subposicion_2','subposicion_3','subposicion_4', 'energia']\n",
    "mask = (data[['subposicion_1','subposicion_2','subposicion_3','subposicion_4']] == 0).sum(axis=1) > 1\n",
    "lista_train = data.loc[mask,['subposicion_1','subposicion_2','subposicion_3','subposicion_4','energia']]\n",
    "lista_test = data.loc[~mask,['subposicion_1','subposicion_2','subposicion_3','subposicion_4','energia']]"
   ]
  },
  {
   "cell_type": "code",
   "execution_count": 3,
   "metadata": {
    "ExecuteTime": {
     "end_time": "2023-06-13T18:27:55.307115700Z",
     "start_time": "2023-06-13T18:27:55.271000700Z"
    },
    "collapsed": false
   },
   "outputs": [],
   "source": [
    "# Instantiate the OneHotEncoder\n",
    "encoder = OneHotEncoder(sparse=False, categories='auto')\n",
    "\n",
    "X_train = lista_train.drop(['energia'], axis=1)\n",
    "X_test = lista_test.drop(['energia'], axis=1)\n",
    "\n",
    "# Fit the encoder and transform the data for both train and test dataframes\n",
    "encoded_train = encoder.fit_transform(X_train)\n",
    "encoded_test = encoder.transform(X_test)\n",
    "\n",
    "# Now, 'encoded_train' and 'encoded_test' are numpy arrays, we can convert them back to dataframes:\n",
    "X_train_scaled = pd.DataFrame(encoded_train, columns=encoder.get_feature_names_out(X_train.columns))\n",
    "X_test_scaled = pd.DataFrame(encoded_test, columns=encoder.get_feature_names_out(X_test.columns))\n",
    "\n",
    "\n",
    "y_test = lista_test['energia']\n",
    "y_train = lista_train['energia']"
   ]
  },
  {
   "cell_type": "code",
   "execution_count": 4,
   "metadata": {
    "ExecuteTime": {
     "end_time": "2023-06-13T18:27:55.323693300Z",
     "start_time": "2023-06-13T18:27:55.282524600Z"
    },
    "collapsed": false
   },
   "outputs": [
    {
     "name": "stdout",
     "output_type": "stream",
     "text": [
      "LinearRegression R2 (Before feature engineering): 0.3297\n",
      "LinearRegression RMSE (Before feature engineering): 3.7214\n"
     ]
    }
   ],
   "source": [
    "\"\"\"\n",
    "#############################################\n",
    "# 4-LINEAR REGRESSION MODEL WITHFEATURE ENGINEERING #\n",
    "#############################################\n",
    "\"\"\"\n",
    "\n",
    "model_lr = LinearRegression()\n",
    "model_lr.fit(X_train_scaled, y_train)\n",
    "r2_linreg_before = model_lr.score(X_test_scaled, y_test)\n",
    "rmse_linreg_before = np.sqrt(mean_squared_error(y_test, model_lr.predict(X_test_scaled)))\n",
    "print('LinearRegression R2 (Before feature engineering): ' + str(round(r2_linreg_before, 4)))\n",
    "print('LinearRegression RMSE (Before feature engineering): ' + str(round(rmse_linreg_before, 4)))"
   ]
  },
  {
   "cell_type": "code",
   "execution_count": 5,
   "metadata": {
    "ExecuteTime": {
     "end_time": "2023-06-13T18:27:55.661514Z",
     "start_time": "2023-06-13T18:27:55.312118Z"
    },
    "collapsed": false
   },
   "outputs": [
    {
     "data": {
      "text/plain": [
       "<matplotlib.legend.Legend at 0x7f706f4cea70>"
      ]
     },
     "execution_count": 5,
     "metadata": {},
     "output_type": "execute_result"
    },
    {
     "data": {
      "image/png": "[encoded data removed]",
      "text/plain": [
       "<Figure size 1200x800 with 1 Axes>"
      ]
     },
     "metadata": {},
     "output_type": "display_data"
    }
   ],
   "source": [
    "fit_results = pd.DataFrame(y_train.copy())\n",
    "fit_results.columns = ['Y_TRUE']\n",
    "test_pred_results = pd.DataFrame(y_test.copy())\n",
    "test_pred_results.columns = ['Y_TRUE']\n",
    "\n",
    "fit_results['Y_FIT'] = model_lr.predict(X_train_scaled).ravel()\n",
    "test_pred_results['Y_PRED'] = model_lr.predict(X_test_scaled)\n",
    "\n",
    "fit_results = fit_results.sort_values(by = ['Y_TRUE']).reset_index(drop = True)\n",
    "test_pred_results = test_pred_results.sort_values(by = ['Y_TRUE']).reset_index(drop = True)\n",
    "\n",
    "#### SCATTER PLOT\n",
    "plt.figure(figsize=(12,8))\n",
    "plt.scatter(fit_results.index,  fit_results['Y_TRUE'], alpha = 0.4, s = 12, label = 'Y_TRUE')\n",
    "plt.scatter(fit_results.index,  fit_results['Y_FIT'], alpha = 0.4, s = 12, label = 'Y_FIT')\n",
    "plt.xlabel('Y_TRUE_RANK_ASENDING_ORDER (SORTED INDEX)')\n",
    "plt.ylabel('Y')\n",
    "plt.title('LinearRegression - BEFORE Feature Engineering' + '\\n' + 'R2:' + str(round(r2_linreg_before, 4)) + ', RMSE:' + str(round(rmse_linreg_before, 2)))\n",
    "plt.legend()"
   ]
  },
  {
   "cell_type": "code",
   "execution_count": 6,
   "metadata": {
    "ExecuteTime": {
     "end_time": "2023-06-13T18:27:55.685126200Z",
     "start_time": "2023-06-13T18:27:55.666377600Z"
    },
    "collapsed": false
   },
   "outputs": [],
   "source": [
    "\n",
    "# assuming df is your DataFrame\n",
    "df = lista_train.drop(['energia'], axis=1)\n",
    "\n",
    "# replace zeros with np.nan\n",
    "df = df.replace(0, np.nan)\n",
    "\n",
    "# instantiate OneHotEncoder\n",
    "enc = OneHotEncoder(sparse=False, handle_unknown='ignore')\n",
    "\n",
    "# apply OneHotEncoder to df\n",
    "onehot_df = enc.fit_transform(df)\n",
    "\n",
    "# create H matrix\n",
    "H = np.zeros(df.shape)\n",
    "\n",
    "# specify the position of non-zero values in H\n",
    "for i in range(df.shape[0]):\n",
    "    for j in range(df.shape[1]):\n",
    "        if not np.isnan(df.iloc[i, j]):\n",
    "            H[i, j] = j+1  # or just 1, based on your requirements\n",
    "\n"
   ]
  },
  {
   "cell_type": "code",
   "execution_count": 7,
   "metadata": {
    "ExecuteTime": {
     "end_time": "2023-06-13T18:27:55.693132Z",
     "start_time": "2023-06-13T18:27:55.684128900Z"
    },
    "collapsed": false
   },
   "outputs": [
    {
     "data": {
      "text/plain": [
       "(28, 1)"
      ]
     },
     "execution_count": 7,
     "metadata": {},
     "output_type": "execute_result"
    }
   ],
   "source": [
    "\n",
    "X_train_array = np.concatenate((onehot_df, H), axis=1)\n",
    "X_train_encoded = X_train_array.reshape((X_train_array.shape[0], X_train_array.shape[1], 1))\n",
    "\n",
    "input_shape_train = (X_train_encoded.shape[1],1)\n",
    "# assuming onehot_df_encoded and H are your input data and are numpy arrays\n",
    "# reshape data for Conv1D, the format should be (n_samples, steps, channels)\n",
    "onehot_df_encoded = onehot_df.reshape((170, 24, 1))\n",
    "H_encoded = H.reshape((170, 4, 1))\n",
    "\n",
    "# target data\n",
    "y_train = np.array(y_train)\n",
    "input_shape_train"
   ]
  },
  {
   "cell_type": "code",
   "execution_count": 8,
   "metadata": {
    "ExecuteTime": {
     "end_time": "2023-06-13T18:27:55.836830600Z",
     "start_time": "2023-06-13T18:27:55.693132Z"
    },
    "collapsed": false
   },
   "outputs": [],
   "source": [
    "# assuming df is your DataFrame\n",
    "df_test = lista_test.drop(['energia'], axis=1)\n",
    "\n",
    "# replace zeros with np.nan\n",
    "df_test = df_test.replace(0, np.nan)\n",
    "\n",
    "# instantiate OneHotEncoder\n",
    "enc = OneHotEncoder(sparse=False, handle_unknown='ignore')\n",
    "\n",
    "# apply OneHotEncoder to df\n",
    "onehot_df_test = enc.fit_transform(df_test)\n",
    "\n",
    "# create H matrix\n",
    "H_test = np.zeros(df_test.shape)\n",
    "\n",
    "# specify the position of non-zero values in H\n",
    "for i in range(df_test.shape[0]):\n",
    "    for j in range(df_test.shape[1]):\n",
    "        if not np.isnan(df_test.iloc[i, j]):\n",
    "            H_test[i, j] = j+1  # or just 1, based on your requirements\n"
   ]
  },
  {
   "cell_type": "code",
   "execution_count": 9,
   "metadata": {
    "ExecuteTime": {
     "end_time": "2023-06-13T18:27:55.853970Z",
     "start_time": "2023-06-13T18:27:55.794987200Z"
    },
    "collapsed": false
   },
   "outputs": [
    {
     "data": {
      "text/plain": [
       "(1118,)"
      ]
     },
     "execution_count": 9,
     "metadata": {},
     "output_type": "execute_result"
    }
   ],
   "source": [
    "onehot_df_test_encoded = onehot_df_test.reshape((onehot_df_test.shape[0], 24, 1))\n",
    "H_test_encoded = H_test.reshape((H_test.shape[0], 4, 1))\n",
    "\n",
    "X_test_array = np.concatenate((onehot_df_test, H_test), axis=1)\n",
    "X_test_encoded = X_test_array.reshape((X_test_array.shape[0], X_test_array.shape[1], 1))\n",
    "input_shape_test = (X_test_encoded.shape[1],1)\n",
    "# target data\n",
    "y_test = np.array(y_test)\n",
    "y_test.shape"
   ]
  },
  {
   "cell_type": "code",
   "execution_count": 10,
   "metadata": {
    "ExecuteTime": {
     "end_time": "2023-06-13T18:28:31.498458Z",
     "start_time": "2023-06-13T18:28:31.438401700Z"
    },
    "collapsed": false
   },
   "outputs": [
    {
     "name": "stdout",
     "output_type": "stream",
     "text": [
      "Mean Squared Error (MSE_lr_encoded):  13.629273658848291\n",
      "Root Mean Squared Error (RMSE_lr_encoded):  3.6917846170718427\n",
      "Mean Absolute Error (MAE_lr_encoded):  2.4779785494656097\n",
      "R-squared Score (R^2_lr_encoded):  0.34036723728051754\n"
     ]
    }
   ],
   "source": [
    "model_lr_encoded = LinearRegression()\n",
    "model_lr_encoded.fit(X_train_array, y_train)\n",
    "\n",
    "# Get predictions\n",
    "preds_lr_encoded = model_lr_encoded.predict(X_test_array)\n",
    "\n",
    "# You can evaluate your predictions using a suitable error metric from sklearn.metrics\n",
    "# For example:\n",
    "mse_lr_encoded = mean_squared_error(y_test, preds_lr_encoded)\n",
    "rmse_lr_encoded = np.sqrt(mse_lr_encoded)\n",
    "mae_lr_encoded = mean_absolute_error(y_test, preds_lr_encoded)\n",
    "r2_lr_encoded = r2_score(y_test, preds_lr_encoded)\n",
    "\n",
    "print('Mean Squared Error (MSE_lr_encoded): ', mse_lr_encoded)\n",
    "print('Root Mean Squared Error (RMSE_lr_encoded): ', rmse_lr_encoded)\n",
    "print('Mean Absolute Error (MAE_lr_encoded): ', mae_lr_encoded)\n",
    "print('R-squared Score (R^2_lr_encoded): ', r2_lr_encoded)"
   ]
  },
  {
   "cell_type": "code",
   "execution_count": 11,
   "metadata": {
    "ExecuteTime": {
     "end_time": "2023-06-13T18:38:38.963989500Z",
     "start_time": "2023-06-13T18:38:37.491795300Z"
    },
    "collapsed": false
   },
   "outputs": [
    {
     "name": "stdout",
     "output_type": "stream",
     "text": [
      "Mean Squared Error (MSE_cat):  28.963368342645765\n",
      "Root Mean Squared Error (RMSE_cat):  5.381762568401338\n",
      "Mean Absolute Error (MAE_cat):  3.5193217633933305\n",
      "R-squared Score (R^2_cat):  -0.4017758506975242\n"
     ]
    }
   ],
   "source": [
    "from catboost import CatBoostRegressor, Pool\n",
    "\n",
    "# Identify the indices of the categorical features\n",
    "cat_features_indices = np.where(X_train.dtypes != np.float)[0]\n",
    "\n",
    "X_train_cat, X_eval_cat, y_train_cat, y_eval_cat = train_test_split(X_train, y_train, test_size=0.2, random_state=42)\n",
    "\n",
    "# Initialize CatBoostRegressor\n",
    "model_cat = CatBoostRegressor(\n",
    "    iterations=500,\n",
    "    depth=10,\n",
    "    learning_rate=0.01,\n",
    "    loss_function='RMSE',\n",
    "    custom_metric=['RMSE'],\n",
    "    random_seed=42,\n",
    "    logging_level='Silent',\n",
    ")\n",
    "\n",
    "# Fit model\n",
    "model_cat.fit(\n",
    "    X_train_cat, y_train_cat,\n",
    "    cat_features=cat_features_indices,\n",
    "    eval_set=(X_eval_cat, y_eval_cat),\n",
    "    use_best_model=True\n",
    ")\n",
    "\n",
    "# Get predictions\n",
    "preds_cat = model_cat.predict(X_test)\n",
    "\n",
    "# You can evaluate your predictions using a suitable error metric from sklearn.metrics\n",
    "# For example:\n",
    "mse_cat = mean_squared_error(y_test, preds_cat)\n",
    "rmse_cat = np.sqrt(mse_cat)\n",
    "mae_cat = mean_absolute_error(y_test, preds_cat)\n",
    "r2_cat = r2_score(y_test, preds_cat)\n",
    "\n",
    "print('Mean Squared Error (MSE_cat): ', mse_cat)\n",
    "print('Root Mean Squared Error (RMSE_cat): ', rmse_cat)\n",
    "print('Mean Absolute Error (MAE_cat): ', mae_cat)\n",
    "print('R-squared Score (R^2_cat): ', r2_cat)\n"
   ]
  },
  {
   "cell_type": "code",
   "execution_count": 12,
   "metadata": {
    "ExecuteTime": {
     "end_time": "2023-06-13T18:41:22.505909100Z",
     "start_time": "2023-06-13T18:41:22.182693200Z"
    },
    "collapsed": false
   },
   "outputs": [
    {
     "name": "stdout",
     "output_type": "stream",
     "text": [
      "Mean Squared Error (MSE_cat):  27.483582583238924\n",
      "Root Mean Squared Error (RMSE_cat):  5.242478667885919\n",
      "Mean Absolute Error (MAE_cat):  3.443150197638922\n",
      "R-squared Score (R^2_cat):  -0.33015683466310963\n"
     ]
    }
   ],
   "source": [
    "# Identify the indices of the categorical features\n",
    "cat_features_indices_scaled = np.where(X_train_scaled.dtypes != np.float)[0]\n",
    "\n",
    "X_train_cat_scaled, X_eval_cat_scaled, y_train_cat_scaled, y_eval_cat_scaled = train_test_split(X_train_scaled, y_train, test_size=0.2, random_state=42)\n",
    "\n",
    "# Initialize CatBoostRegressor\n",
    "model_cat_scaled = CatBoostRegressor(\n",
    "    iterations=500,\n",
    "    depth=10,\n",
    "    learning_rate=0.01,\n",
    "    loss_function='RMSE',\n",
    "    custom_metric=['RMSE'],\n",
    "    random_seed=42,\n",
    "    logging_level='Silent',\n",
    ")\n",
    "\n",
    "# Fit model\n",
    "model_cat_scaled.fit(\n",
    "    X_train_cat_scaled, y_train_cat_scaled,\n",
    "    cat_features=cat_features_indices_scaled,\n",
    "    eval_set=(X_eval_cat_scaled, y_eval_cat_scaled),\n",
    "    use_best_model=True\n",
    ")\n",
    "\n",
    "# Get predictions\n",
    "preds_cat_scaled = model_cat_scaled.predict(X_test_scaled)\n",
    "\n",
    "# You can evaluate your predictions using a suitable error metric from sklearn.metrics\n",
    "# For example:\n",
    "mse_cat_scaled = mean_squared_error(y_test, preds_cat_scaled)\n",
    "rmse_cat_scaled = np.sqrt(mse_cat_scaled)\n",
    "mae_cat_scaled = mean_absolute_error(y_test, preds_cat_scaled)\n",
    "r2_cat_scaled = r2_score(y_test, preds_cat_scaled)\n",
    "\n",
    "print('Mean Squared Error (MSE_cat): ', mse_cat_scaled)\n",
    "print('Root Mean Squared Error (RMSE_cat): ', rmse_cat_scaled)\n",
    "print('Mean Absolute Error (MAE_cat): ', mae_cat_scaled)\n",
    "print('R-squared Score (R^2_cat): ', r2_cat_scaled)"
   ]
  },
  {
   "cell_type": "code",
   "execution_count": 13,
   "metadata": {
    "ExecuteTime": {
     "end_time": "2023-06-13T18:55:11.281615300Z",
     "start_time": "2023-06-13T18:55:11.099903600Z"
    },
    "collapsed": false
   },
   "outputs": [
    {
     "name": "stdout",
     "output_type": "stream",
     "text": [
      "Mean Squared Error (MSE_lr_poly):  9.063986686258728\n",
      "Root Mean Squared Error (RMSE_lr_poly):  3.0106455597194977\n",
      "Mean Absolute Error (MAE_lr_poly):  2.0655466690253803\n",
      "R-squared Score (R^2_lr_poly):  0.5613190600786071\n"
     ]
    }
   ],
   "source": [
    "from sklearn.preprocessing import PolynomialFeatures\n",
    "\n",
    "# assuming X_train is your training data\n",
    "poly = PolynomialFeatures(16)\n",
    "X_train_poly = poly.fit_transform(X_train)\n",
    "X_test_poly = poly.fit_transform(X_test)\n",
    "\n",
    "model_lr_poly = LinearRegression()\n",
    "model_lr_poly.fit(X_train_poly, y_train)\n",
    "\n",
    "# Get predictions\n",
    "preds_lr_poly = model_lr_poly.predict(X_test_poly)\n",
    "\n",
    "# You can evaluate your predictions using a suitable error metric from sklearn.metrics\n",
    "# For example:\n",
    "mse_lr_poly = mean_squared_error(y_test, preds_lr_poly)\n",
    "rmse_lr_poly = np.sqrt(mse_lr_poly)\n",
    "mae_lr_poly = mean_absolute_error(y_test, preds_lr_poly)\n",
    "r2_lr_poly = r2_score(y_test, preds_lr_poly)\n",
    "\n",
    "print('Mean Squared Error (MSE_lr_poly): ', mse_lr_poly)\n",
    "print('Root Mean Squared Error (RMSE_lr_poly): ', rmse_lr_poly)\n",
    "print('Mean Absolute Error (MAE_lr_poly): ', mae_lr_poly)\n",
    "print('R-squared Score (R^2_lr_poly): ', r2_lr_poly)"
   ]
  },
  {
   "cell_type": "code",
   "execution_count": 14,
   "metadata": {
    "ExecuteTime": {
     "end_time": "2023-06-13T19:00:37.634338300Z",
     "start_time": "2023-06-13T19:00:37.616730100Z"
    },
    "collapsed": false
   },
   "outputs": [
    {
     "name": "stdout",
     "output_type": "stream",
     "text": [
      "Mean Squared Error (MSE_lr_inter):  18.192258307476042\n",
      "Root Mean Squared Error (RMSE_lr_inter):  4.265238364672722\n",
      "Mean Absolute Error (MAE_lr_inter):  3.021896516625091\n",
      "R-squared Score (R^2_lr_inter):  0.11952684289406768\n"
     ]
    }
   ],
   "source": [
    "# This can be done with PolynomialFeatures by setting interaction_only=True\n",
    "inter = PolynomialFeatures(32, interaction_only=True)\n",
    "X_train_inter = inter.fit_transform(X_train)\n",
    "X_test_inter = inter.fit_transform(X_test)\n",
    "\n",
    "model_lr_inter = LinearRegression()\n",
    "model_lr_inter.fit(X_train_inter, y_train)\n",
    "\n",
    "# Get predictions\n",
    "preds_lr_inter = model_lr_inter.predict(X_test_inter)\n",
    "\n",
    "# You can evaluate your predictions using a suitable error metric from sklearn.metrics\n",
    "# For example:\n",
    "mse_lr_inter = mean_squared_error(y_test, preds_lr_inter)\n",
    "rmse_lr_inter = np.sqrt(mse_lr_inter)\n",
    "mae_lr_inter = mean_absolute_error(y_test, preds_lr_inter)\n",
    "r2_lr_inter = r2_score(y_test, preds_lr_inter)\n",
    "\n",
    "print('Mean Squared Error (MSE_lr_inter): ', mse_lr_inter)\n",
    "print('Root Mean Squared Error (RMSE_lr_inter): ', rmse_lr_inter)\n",
    "print('Mean Absolute Error (MAE_lr_inter): ', mae_lr_inter)\n",
    "print('R-squared Score (R^2_lr_inter): ', r2_lr_inter)\n"
   ]
  },
  {
   "cell_type": "code",
   "execution_count": 15,
   "metadata": {
    "ExecuteTime": {
     "end_time": "2023-06-13T20:13:48.290602600Z",
     "start_time": "2023-06-13T20:13:48.199648900Z"
    },
    "collapsed": false
   },
   "outputs": [
    {
     "name": "stdout",
     "output_type": "stream",
     "text": [
      "Mean Squared Error (MSE_lr_binned):  13.985817055322693\n",
      "Root Mean Squared Error (RMSE_lr_binned):  3.739761630815886\n",
      "Mean Absolute Error (MAE_lr_binned):  2.5737031736583185\n",
      "R-squared Score (R^2_lr_binned):  0.3231111668887465\n"
     ]
    }
   ],
   "source": [
    "from sklearn.preprocessing import KBinsDiscretizer\n",
    "\n",
    "# Discretize continuous features into 5 bins\n",
    "kb = KBinsDiscretizer(n_bins=44, strategy='uniform', encode='onehot-dense')\n",
    "X_train_binned = kb.fit_transform(X_train)\n",
    "X_test_binned = kb.fit_transform(X_test)\n",
    "\n",
    "model_lr_binned = LinearRegression()\n",
    "model_lr_binned.fit(X_train_binned, y_train)\n",
    "\n",
    "# Get predictions\n",
    "preds_lr_binned = model_lr_binned.predict(X_test_binned)\n",
    "\n",
    "# You can evaluate your predictions using a suitable error metric from sklearn.metrics\n",
    "# For example:\n",
    "mse_lr_binned = mean_squared_error(y_test, preds_lr_binned)\n",
    "rmse_lr_binned = np.sqrt(mse_lr_binned)\n",
    "mae_lr_binned = mean_absolute_error(y_test, preds_lr_binned)\n",
    "r2_lr_binned = r2_score(y_test, preds_lr_binned)\n",
    "\n",
    "print('Mean Squared Error (MSE_lr_binned): ', mse_lr_binned)\n",
    "print('Root Mean Squared Error (RMSE_lr_binned): ', rmse_lr_binned)\n",
    "print('Mean Absolute Error (MAE_lr_binned): ', mae_lr_binned)\n",
    "print('R-squared Score (R^2_lr_binned): ', r2_lr_binned)\n"
   ]
  },
  {
   "cell_type": "code",
   "execution_count": 16,
   "metadata": {},
   "outputs": [],
   "source": [
    "##############WITH FEATURE ENGINEERING\n",
    "\n",
    "# Reload the dataset\n",
    "dataset = pd.read_csv('../data/raw/alldata.csv').drop(['familia'], axis=1)\n",
    "y_colname = 'energia'\n",
    "\n",
    "# SPLIT DATA\n",
    "X = dataset[dataset.columns.difference([y_colname])]\n",
    "y = dataset[[y_colname]]\n",
    "feature_names = list(dataset.columns.difference([y_colname]))\n",
    "\n",
    "X_train, X_test, y_train, y_test = train_test_split(X, y, \n",
    "                                                    test_size=0.80, \n",
    "                                                    stratify = X['indice_fam'], \n",
    "                                                    random_state=0)\n",
    "\n",
    "# DATA PREP\n",
    "data_prep = DataPreparator(outliers_strategy = 'IQR', \n",
    "                           outliers_cutoff = 3, \n",
    "                           encoding_strategy = 'dummy',\n",
    "                           drop_duplicate_rows = True)\n",
    "X_train, y_train = data_prep.fit_transform(X_train, y_train)\n",
    "X_test = data_prep.transform(X_test, y_test)"
   ]
  },
  {
   "cell_type": "code",
   "execution_count": 18,
   "metadata": {},
   "outputs": [
    {
     "ename": "TypeError",
     "evalue": "unsupported operand type(s) for +: 'int' and 'str'",
     "output_type": "error",
     "traceback": [
      "\u001b[0;31m---------------------------------------------------------------------------\u001b[0m",
      "\u001b[0;31mTypeError\u001b[0m                                 Traceback (most recent call last)",
      "Cell \u001b[0;32mIn[18], line 21\u001b[0m\n\u001b[1;32m      2\u001b[0m fboost \u001b[39m=\u001b[39m FeatureBoosterRegressor(base_model \u001b[39m=\u001b[39m RandomForestRegressor(criterion\u001b[39m=\u001b[39m\u001b[39m'\u001b[39m\u001b[39mfriedman_mse\u001b[39m\u001b[39m'\u001b[39m, \n\u001b[1;32m      3\u001b[0m                                                     max_depth\u001b[39m=\u001b[39m\u001b[39m5\u001b[39m,\n\u001b[1;32m      4\u001b[0m                                                     max_features\u001b[39m=\u001b[39m\u001b[39mNone\u001b[39;00m, \n\u001b[0;32m   (...)\u001b[0m\n\u001b[1;32m     17\u001b[0m                                 scaler \u001b[39m=\u001b[39m \u001b[39m'\u001b[39m\u001b[39mStandard\u001b[39m\u001b[39m'\u001b[39m,\n\u001b[1;32m     18\u001b[0m                                 random_state \u001b[39m=\u001b[39m \u001b[39m0\u001b[39m)\n\u001b[1;32m     20\u001b[0m \u001b[39m# FIT FEATURE ENGINEERING FOR TRAIN DATA\u001b[39;00m\n\u001b[0;32m---> 21\u001b[0m X_train, rules \u001b[39m=\u001b[39m fboost\u001b[39m.\u001b[39;49mfit_transform(X_train, y_train)\n\u001b[1;32m     23\u001b[0m \u001b[39m# TRANSFORM FEATURE ENGINEERING FOR TEST DATA\u001b[39;00m\n\u001b[1;32m     24\u001b[0m X_test \u001b[39m=\u001b[39m fboost\u001b[39m.\u001b[39mtransform(X_test)\n",
      "File \u001b[0;32m~/deedevelopment.ai/resmol/notebooks/fboost.py:1460\u001b[0m, in \u001b[0;36mFeatureBoosterRegressor.fit_transform\u001b[0;34m(self, X, y)\u001b[0m\n\u001b[1;32m   1452\u001b[0m \u001b[39mself\u001b[39m\u001b[39m.\u001b[39mpoly_ \u001b[39m=\u001b[39m poly\n\u001b[1;32m   1455\u001b[0m \u001b[39m#feature_selection  = FeatureSelector(selection_strategy = 'severe',  quantile_cutoff = 0.45) \u001b[39;00m\n\u001b[1;32m   1456\u001b[0m poly_X \u001b[39m=\u001b[39m FeatureSelectorRegressor(selection_strategy \u001b[39m=\u001b[39;49m \u001b[39mself\u001b[39;49m\u001b[39m.\u001b[39;49mselection_strategy_,  \n\u001b[1;32m   1457\u001b[0m                                  quantile_cutoff \u001b[39m=\u001b[39;49m \u001b[39mself\u001b[39;49m\u001b[39m.\u001b[39;49mquantile_cutoff_,\n\u001b[1;32m   1458\u001b[0m                                  alpha \u001b[39m=\u001b[39;49m \u001b[39mself\u001b[39;49m\u001b[39m.\u001b[39;49malpha_,\n\u001b[1;32m   1459\u001b[0m                                  scaler \u001b[39m=\u001b[39;49m \u001b[39mself\u001b[39;49m\u001b[39m.\u001b[39;49mscaler_\n\u001b[0;32m-> 1460\u001b[0m                                  )\u001b[39m.\u001b[39;49mfit_transform(poly_X, y)\n\u001b[1;32m   1461\u001b[0m \u001b[39m#print(self.selection_strategy_)\u001b[39;00m\n\u001b[1;32m   1462\u001b[0m \u001b[39m#print(self.quantile_cutoff_)\u001b[39;00m\n\u001b[1;32m   1463\u001b[0m poly_X\u001b[39m.\u001b[39mindex \u001b[39m=\u001b[39m X\u001b[39m.\u001b[39mindex\n",
      "File \u001b[0;32m~/deedevelopment.ai/resmol/notebooks/fboost.py:868\u001b[0m, in \u001b[0;36mFeatureSelectorRegressor.fit_transform\u001b[0;34m(self, X_train, y_train)\u001b[0m\n\u001b[1;32m    866\u001b[0m all_features_scaled \u001b[39m=\u001b[39m pd\u001b[39m.\u001b[39mDataFrame(scaler2\u001b[39m.\u001b[39mfit_transform(all_features\u001b[39m.\u001b[39miloc[:, \u001b[39m1\u001b[39m:]), columns \u001b[39m=\u001b[39m all_features\u001b[39m.\u001b[39miloc[:, \u001b[39m1\u001b[39m:]\u001b[39m.\u001b[39mcolumns, index \u001b[39m=\u001b[39m all_features\u001b[39m.\u001b[39mindex)\n\u001b[1;32m    867\u001b[0m all_features_scaled[\u001b[39m'\u001b[39m\u001b[39mFEATURE\u001b[39m\u001b[39m'\u001b[39m] \u001b[39m=\u001b[39m all_features[\u001b[39m'\u001b[39m\u001b[39mFEATURE\u001b[39m\u001b[39m'\u001b[39m]\n\u001b[0;32m--> 868\u001b[0m all_features_mean \u001b[39m=\u001b[39m pd\u001b[39m.\u001b[39mDataFrame(np\u001b[39m.\u001b[39;49mmean(all_features_scaled, axis \u001b[39m=\u001b[39;49m \u001b[39m1\u001b[39;49m))\n\u001b[1;32m    869\u001b[0m all_features_mean\u001b[39m.\u001b[39mcolumns \u001b[39m=\u001b[39m [\u001b[39m'\u001b[39m\u001b[39mSCORE_MEAN\u001b[39m\u001b[39m'\u001b[39m]\n\u001b[1;32m    870\u001b[0m all_features_mean[\u001b[39m'\u001b[39m\u001b[39mFEATURE\u001b[39m\u001b[39m'\u001b[39m] \u001b[39m=\u001b[39m all_features[\u001b[39m'\u001b[39m\u001b[39mFEATURE\u001b[39m\u001b[39m'\u001b[39m]\n",
      "File \u001b[0;32m<__array_function__ internals>:180\u001b[0m, in \u001b[0;36mmean\u001b[0;34m(*args, **kwargs)\u001b[0m\n",
      "File \u001b[0;32m~/deedevelopment.ai/resmol/venv/lib/python3.10/site-packages/numpy/core/fromnumeric.py:3430\u001b[0m, in \u001b[0;36mmean\u001b[0;34m(a, axis, dtype, out, keepdims, where)\u001b[0m\n\u001b[1;32m   3428\u001b[0m         \u001b[39mpass\u001b[39;00m\n\u001b[1;32m   3429\u001b[0m     \u001b[39melse\u001b[39;00m:\n\u001b[0;32m-> 3430\u001b[0m         \u001b[39mreturn\u001b[39;00m mean(axis\u001b[39m=\u001b[39;49maxis, dtype\u001b[39m=\u001b[39;49mdtype, out\u001b[39m=\u001b[39;49mout, \u001b[39m*\u001b[39;49m\u001b[39m*\u001b[39;49mkwargs)\n\u001b[1;32m   3432\u001b[0m \u001b[39mreturn\u001b[39;00m _methods\u001b[39m.\u001b[39m_mean(a, axis\u001b[39m=\u001b[39maxis, dtype\u001b[39m=\u001b[39mdtype,\n\u001b[1;32m   3433\u001b[0m                       out\u001b[39m=\u001b[39mout, \u001b[39m*\u001b[39m\u001b[39m*\u001b[39mkwargs)\n",
      "File \u001b[0;32m~/deedevelopment.ai/resmol/venv/lib/python3.10/site-packages/pandas/core/generic.py:11556\u001b[0m, in \u001b[0;36mNDFrame._add_numeric_operations.<locals>.mean\u001b[0;34m(self, axis, skipna, numeric_only, **kwargs)\u001b[0m\n\u001b[1;32m  11539\u001b[0m \u001b[39m@doc\u001b[39m(\n\u001b[1;32m  11540\u001b[0m     _num_doc,\n\u001b[1;32m  11541\u001b[0m     desc\u001b[39m=\u001b[39m\u001b[39m\"\u001b[39m\u001b[39mReturn the mean of the values over the requested axis.\u001b[39m\u001b[39m\"\u001b[39m,\n\u001b[0;32m   (...)\u001b[0m\n\u001b[1;32m  11554\u001b[0m     \u001b[39m*\u001b[39m\u001b[39m*\u001b[39mkwargs,\n\u001b[1;32m  11555\u001b[0m ):\n\u001b[0;32m> 11556\u001b[0m     \u001b[39mreturn\u001b[39;00m NDFrame\u001b[39m.\u001b[39;49mmean(\u001b[39mself\u001b[39;49m, axis, skipna, numeric_only, \u001b[39m*\u001b[39;49m\u001b[39m*\u001b[39;49mkwargs)\n",
      "File \u001b[0;32m~/deedevelopment.ai/resmol/venv/lib/python3.10/site-packages/pandas/core/generic.py:11201\u001b[0m, in \u001b[0;36mNDFrame.mean\u001b[0;34m(self, axis, skipna, numeric_only, **kwargs)\u001b[0m\n\u001b[1;32m  11194\u001b[0m \u001b[39mdef\u001b[39;00m \u001b[39mmean\u001b[39m(\n\u001b[1;32m  11195\u001b[0m     \u001b[39mself\u001b[39m,\n\u001b[1;32m  11196\u001b[0m     axis: Axis \u001b[39m|\u001b[39m \u001b[39mNone\u001b[39;00m \u001b[39m=\u001b[39m \u001b[39m0\u001b[39m,\n\u001b[0;32m   (...)\u001b[0m\n\u001b[1;32m  11199\u001b[0m     \u001b[39m*\u001b[39m\u001b[39m*\u001b[39mkwargs,\n\u001b[1;32m  11200\u001b[0m ) \u001b[39m-\u001b[39m\u001b[39m>\u001b[39m Series \u001b[39m|\u001b[39m \u001b[39mfloat\u001b[39m:\n\u001b[0;32m> 11201\u001b[0m     \u001b[39mreturn\u001b[39;00m \u001b[39mself\u001b[39;49m\u001b[39m.\u001b[39;49m_stat_function(\n\u001b[1;32m  11202\u001b[0m         \u001b[39m\"\u001b[39;49m\u001b[39mmean\u001b[39;49m\u001b[39m\"\u001b[39;49m, nanops\u001b[39m.\u001b[39;49mnanmean, axis, skipna, numeric_only, \u001b[39m*\u001b[39;49m\u001b[39m*\u001b[39;49mkwargs\n\u001b[1;32m  11203\u001b[0m     )\n",
      "File \u001b[0;32m~/deedevelopment.ai/resmol/venv/lib/python3.10/site-packages/pandas/core/generic.py:11158\u001b[0m, in \u001b[0;36mNDFrame._stat_function\u001b[0;34m(self, name, func, axis, skipna, numeric_only, **kwargs)\u001b[0m\n\u001b[1;32m  11154\u001b[0m     nv\u001b[39m.\u001b[39mvalidate_stat_func((), kwargs, fname\u001b[39m=\u001b[39mname)\n\u001b[1;32m  11156\u001b[0m validate_bool_kwarg(skipna, \u001b[39m\"\u001b[39m\u001b[39mskipna\u001b[39m\u001b[39m\"\u001b[39m, none_allowed\u001b[39m=\u001b[39m\u001b[39mFalse\u001b[39;00m)\n\u001b[0;32m> 11158\u001b[0m \u001b[39mreturn\u001b[39;00m \u001b[39mself\u001b[39;49m\u001b[39m.\u001b[39;49m_reduce(\n\u001b[1;32m  11159\u001b[0m     func, name\u001b[39m=\u001b[39;49mname, axis\u001b[39m=\u001b[39;49maxis, skipna\u001b[39m=\u001b[39;49mskipna, numeric_only\u001b[39m=\u001b[39;49mnumeric_only\n\u001b[1;32m  11160\u001b[0m )\n",
      "File \u001b[0;32m~/deedevelopment.ai/resmol/venv/lib/python3.10/site-packages/pandas/core/frame.py:10519\u001b[0m, in \u001b[0;36mDataFrame._reduce\u001b[0;34m(self, op, name, axis, skipna, numeric_only, filter_type, **kwds)\u001b[0m\n\u001b[1;32m  10515\u001b[0m     df \u001b[39m=\u001b[39m df\u001b[39m.\u001b[39mT\n\u001b[1;32m  10517\u001b[0m \u001b[39m# After possibly _get_data and transposing, we are now in the\u001b[39;00m\n\u001b[1;32m  10518\u001b[0m \u001b[39m#  simple case where we can use BlockManager.reduce\u001b[39;00m\n\u001b[0;32m> 10519\u001b[0m res \u001b[39m=\u001b[39m df\u001b[39m.\u001b[39;49m_mgr\u001b[39m.\u001b[39;49mreduce(blk_func)\n\u001b[1;32m  10520\u001b[0m out \u001b[39m=\u001b[39m df\u001b[39m.\u001b[39m_constructor(res)\u001b[39m.\u001b[39miloc[\u001b[39m0\u001b[39m]\n\u001b[1;32m  10521\u001b[0m \u001b[39mif\u001b[39;00m out_dtype \u001b[39mis\u001b[39;00m \u001b[39mnot\u001b[39;00m \u001b[39mNone\u001b[39;00m:\n",
      "File \u001b[0;32m~/deedevelopment.ai/resmol/venv/lib/python3.10/site-packages/pandas/core/internals/managers.py:1534\u001b[0m, in \u001b[0;36mBlockManager.reduce\u001b[0;34m(self, func)\u001b[0m\n\u001b[1;32m   1532\u001b[0m res_blocks: \u001b[39mlist\u001b[39m[Block] \u001b[39m=\u001b[39m []\n\u001b[1;32m   1533\u001b[0m \u001b[39mfor\u001b[39;00m blk \u001b[39min\u001b[39;00m \u001b[39mself\u001b[39m\u001b[39m.\u001b[39mblocks:\n\u001b[0;32m-> 1534\u001b[0m     nbs \u001b[39m=\u001b[39m blk\u001b[39m.\u001b[39;49mreduce(func)\n\u001b[1;32m   1535\u001b[0m     res_blocks\u001b[39m.\u001b[39mextend(nbs)\n\u001b[1;32m   1537\u001b[0m index \u001b[39m=\u001b[39m Index([\u001b[39mNone\u001b[39;00m])  \u001b[39m# placeholder\u001b[39;00m\n",
      "File \u001b[0;32m~/deedevelopment.ai/resmol/venv/lib/python3.10/site-packages/pandas/core/internals/blocks.py:339\u001b[0m, in \u001b[0;36mBlock.reduce\u001b[0;34m(self, func)\u001b[0m\n\u001b[1;32m    333\u001b[0m \u001b[39m@final\u001b[39m\n\u001b[1;32m    334\u001b[0m \u001b[39mdef\u001b[39;00m \u001b[39mreduce\u001b[39m(\u001b[39mself\u001b[39m, func) \u001b[39m-\u001b[39m\u001b[39m>\u001b[39m \u001b[39mlist\u001b[39m[Block]:\n\u001b[1;32m    335\u001b[0m     \u001b[39m# We will apply the function and reshape the result into a single-row\u001b[39;00m\n\u001b[1;32m    336\u001b[0m     \u001b[39m#  Block with the same mgr_locs; squeezing will be done at a higher level\u001b[39;00m\n\u001b[1;32m    337\u001b[0m     \u001b[39massert\u001b[39;00m \u001b[39mself\u001b[39m\u001b[39m.\u001b[39mndim \u001b[39m==\u001b[39m \u001b[39m2\u001b[39m\n\u001b[0;32m--> 339\u001b[0m     result \u001b[39m=\u001b[39m func(\u001b[39mself\u001b[39;49m\u001b[39m.\u001b[39;49mvalues)\n\u001b[1;32m    341\u001b[0m     \u001b[39mif\u001b[39;00m \u001b[39mself\u001b[39m\u001b[39m.\u001b[39mvalues\u001b[39m.\u001b[39mndim \u001b[39m==\u001b[39m \u001b[39m1\u001b[39m:\n\u001b[1;32m    342\u001b[0m         \u001b[39m# TODO(EA2D): special case not needed with 2D EAs\u001b[39;00m\n\u001b[1;32m    343\u001b[0m         res_values \u001b[39m=\u001b[39m np\u001b[39m.\u001b[39marray([[result]])\n",
      "File \u001b[0;32m~/deedevelopment.ai/resmol/venv/lib/python3.10/site-packages/pandas/core/frame.py:10482\u001b[0m, in \u001b[0;36mDataFrame._reduce.<locals>.blk_func\u001b[0;34m(values, axis)\u001b[0m\n\u001b[1;32m  10480\u001b[0m     \u001b[39mreturn\u001b[39;00m values\u001b[39m.\u001b[39m_reduce(name, skipna\u001b[39m=\u001b[39mskipna, \u001b[39m*\u001b[39m\u001b[39m*\u001b[39mkwds)\n\u001b[1;32m  10481\u001b[0m \u001b[39melse\u001b[39;00m:\n\u001b[0;32m> 10482\u001b[0m     \u001b[39mreturn\u001b[39;00m op(values, axis\u001b[39m=\u001b[39;49maxis, skipna\u001b[39m=\u001b[39;49mskipna, \u001b[39m*\u001b[39;49m\u001b[39m*\u001b[39;49mkwds)\n",
      "File \u001b[0;32m~/deedevelopment.ai/resmol/venv/lib/python3.10/site-packages/pandas/core/nanops.py:96\u001b[0m, in \u001b[0;36mdisallow.__call__.<locals>._f\u001b[0;34m(*args, **kwargs)\u001b[0m\n\u001b[1;32m     94\u001b[0m \u001b[39mtry\u001b[39;00m:\n\u001b[1;32m     95\u001b[0m     \u001b[39mwith\u001b[39;00m np\u001b[39m.\u001b[39merrstate(invalid\u001b[39m=\u001b[39m\u001b[39m\"\u001b[39m\u001b[39mignore\u001b[39m\u001b[39m\"\u001b[39m):\n\u001b[0;32m---> 96\u001b[0m         \u001b[39mreturn\u001b[39;00m f(\u001b[39m*\u001b[39;49margs, \u001b[39m*\u001b[39;49m\u001b[39m*\u001b[39;49mkwargs)\n\u001b[1;32m     97\u001b[0m \u001b[39mexcept\u001b[39;00m \u001b[39mValueError\u001b[39;00m \u001b[39mas\u001b[39;00m e:\n\u001b[1;32m     98\u001b[0m     \u001b[39m# we want to transform an object array\u001b[39;00m\n\u001b[1;32m     99\u001b[0m     \u001b[39m# ValueError message to the more typical TypeError\u001b[39;00m\n\u001b[1;32m    100\u001b[0m     \u001b[39m# e.g. this is normally a disallowed function on\u001b[39;00m\n\u001b[1;32m    101\u001b[0m     \u001b[39m# object arrays that contain strings\u001b[39;00m\n\u001b[1;32m    102\u001b[0m     \u001b[39mif\u001b[39;00m is_object_dtype(args[\u001b[39m0\u001b[39m]):\n",
      "File \u001b[0;32m~/deedevelopment.ai/resmol/venv/lib/python3.10/site-packages/pandas/core/nanops.py:158\u001b[0m, in \u001b[0;36mbottleneck_switch.__call__.<locals>.f\u001b[0;34m(values, axis, skipna, **kwds)\u001b[0m\n\u001b[1;32m    156\u001b[0m         result \u001b[39m=\u001b[39m alt(values, axis\u001b[39m=\u001b[39maxis, skipna\u001b[39m=\u001b[39mskipna, \u001b[39m*\u001b[39m\u001b[39m*\u001b[39mkwds)\n\u001b[1;32m    157\u001b[0m \u001b[39melse\u001b[39;00m:\n\u001b[0;32m--> 158\u001b[0m     result \u001b[39m=\u001b[39m alt(values, axis\u001b[39m=\u001b[39;49maxis, skipna\u001b[39m=\u001b[39;49mskipna, \u001b[39m*\u001b[39;49m\u001b[39m*\u001b[39;49mkwds)\n\u001b[1;32m    160\u001b[0m \u001b[39mreturn\u001b[39;00m result\n",
      "File \u001b[0;32m~/deedevelopment.ai/resmol/venv/lib/python3.10/site-packages/pandas/core/nanops.py:421\u001b[0m, in \u001b[0;36m_datetimelike_compat.<locals>.new_func\u001b[0;34m(values, axis, skipna, mask, **kwargs)\u001b[0m\n\u001b[1;32m    418\u001b[0m \u001b[39mif\u001b[39;00m datetimelike \u001b[39mand\u001b[39;00m mask \u001b[39mis\u001b[39;00m \u001b[39mNone\u001b[39;00m:\n\u001b[1;32m    419\u001b[0m     mask \u001b[39m=\u001b[39m isna(values)\n\u001b[0;32m--> 421\u001b[0m result \u001b[39m=\u001b[39m func(values, axis\u001b[39m=\u001b[39;49maxis, skipna\u001b[39m=\u001b[39;49mskipna, mask\u001b[39m=\u001b[39;49mmask, \u001b[39m*\u001b[39;49m\u001b[39m*\u001b[39;49mkwargs)\n\u001b[1;32m    423\u001b[0m \u001b[39mif\u001b[39;00m datetimelike:\n\u001b[1;32m    424\u001b[0m     result \u001b[39m=\u001b[39m _wrap_results(result, orig_values\u001b[39m.\u001b[39mdtype, fill_value\u001b[39m=\u001b[39miNaT)\n",
      "File \u001b[0;32m~/deedevelopment.ai/resmol/venv/lib/python3.10/site-packages/pandas/core/nanops.py:727\u001b[0m, in \u001b[0;36mnanmean\u001b[0;34m(values, axis, skipna, mask)\u001b[0m\n\u001b[1;32m    724\u001b[0m     dtype_count \u001b[39m=\u001b[39m dtype\n\u001b[1;32m    726\u001b[0m count \u001b[39m=\u001b[39m _get_counts(values\u001b[39m.\u001b[39mshape, mask, axis, dtype\u001b[39m=\u001b[39mdtype_count)\n\u001b[0;32m--> 727\u001b[0m the_sum \u001b[39m=\u001b[39m _ensure_numeric(values\u001b[39m.\u001b[39;49msum(axis, dtype\u001b[39m=\u001b[39;49mdtype_sum))\n\u001b[1;32m    729\u001b[0m \u001b[39mif\u001b[39;00m axis \u001b[39mis\u001b[39;00m \u001b[39mnot\u001b[39;00m \u001b[39mNone\u001b[39;00m \u001b[39mand\u001b[39;00m \u001b[39mgetattr\u001b[39m(the_sum, \u001b[39m\"\u001b[39m\u001b[39mndim\u001b[39m\u001b[39m\"\u001b[39m, \u001b[39mFalse\u001b[39;00m):\n\u001b[1;32m    730\u001b[0m     count \u001b[39m=\u001b[39m cast(np\u001b[39m.\u001b[39mndarray, count)\n",
      "File \u001b[0;32m~/deedevelopment.ai/resmol/venv/lib/python3.10/site-packages/numpy/core/_methods.py:48\u001b[0m, in \u001b[0;36m_sum\u001b[0;34m(a, axis, dtype, out, keepdims, initial, where)\u001b[0m\n\u001b[1;32m     46\u001b[0m \u001b[39mdef\u001b[39;00m \u001b[39m_sum\u001b[39m(a, axis\u001b[39m=\u001b[39m\u001b[39mNone\u001b[39;00m, dtype\u001b[39m=\u001b[39m\u001b[39mNone\u001b[39;00m, out\u001b[39m=\u001b[39m\u001b[39mNone\u001b[39;00m, keepdims\u001b[39m=\u001b[39m\u001b[39mFalse\u001b[39;00m,\n\u001b[1;32m     47\u001b[0m          initial\u001b[39m=\u001b[39m_NoValue, where\u001b[39m=\u001b[39m\u001b[39mTrue\u001b[39;00m):\n\u001b[0;32m---> 48\u001b[0m     \u001b[39mreturn\u001b[39;00m umr_sum(a, axis, dtype, out, keepdims, initial, where)\n",
      "\u001b[0;31mTypeError\u001b[0m: unsupported operand type(s) for +: 'int' and 'str'"
     ]
    }
   ],
   "source": [
    "# FEATURE ENGINEERING - 1/2 - Polynomials + Rules extraction\n",
    "fboost = FeatureBoosterRegressor(base_model = RandomForestRegressor(criterion='friedman_mse', \n",
    "                                                    max_depth=5,\n",
    "                                                    max_features=None, \n",
    "                                                    max_leaf_nodes=2,\n",
    "                                                    min_samples_leaf=1, \n",
    "                                                    verbose=0, \n",
    "                                                    n_estimators = 850,\n",
    "                                                    warm_start=True,\n",
    "                                                    random_state = 0),\n",
    "                                max_rules = 2800, \n",
    "                                n_best_rules = 35,\n",
    "                                original_features_selection= False,\n",
    "                                selection_strategy = 'severe',  \n",
    "                                quantile_cutoff = 0.83,\n",
    "                                alpha = 89,\n",
    "                                scaler = 'Standard',\n",
    "                                random_state = 0)\n",
    "\n",
    "# FIT FEATURE ENGINEERING FOR TRAIN DATA\n",
    "X_train, rules = fboost.fit_transform(X_train, y_train)\n",
    "\n",
    "# TRANSFORM FEATURE ENGINEERING FOR TEST DATA\n",
    "X_test = fboost.transform(X_test)"
   ]
  },
  {
   "cell_type": "code",
   "execution_count": null,
   "metadata": {},
   "outputs": [],
   "source": []
  }
 ],
 "metadata": {
  "kernelspec": {
   "display_name": "Python 3",
   "language": "python",
   "name": "python3"
  },
  "language_info": {
   "codemirror_mode": {
    "name": "ipython",
    "version": 3
   },
   "file_extension": ".py",
   "mimetype": "text/x-python",
   "name": "python",
   "nbconvert_exporter": "python",
   "pygments_lexer": "ipython3",
   "version": "3.10.6"
  }
 },
 "nbformat": 4,
 "nbformat_minor": 0
}
